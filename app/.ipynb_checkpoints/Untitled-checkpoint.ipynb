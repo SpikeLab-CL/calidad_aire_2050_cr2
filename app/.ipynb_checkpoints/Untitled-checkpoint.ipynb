{
 "cells": [
  {
   "cell_type": "code",
   "execution_count": 5,
   "metadata": {},
   "outputs": [],
   "source": [
    "import pandas_gbq\n",
    "def cargamos_serie_semanal():\n",
    "    query = '''\n",
    "    WITH  base_comunal_concentracion as(\n",
    "        SELECT Time, comuna, region, AVG(PM25) as concentracion_pm25 --promediamos la concentración por comuna por hora\n",
    "        FROM CR2.concentraciones_PM25_w_geo\n",
    "        GROUP BY Time, comuna, region\n",
    "    ),\n",
    "    base_comunal_emision as(\n",
    "        SELECT Time, comuna, region, SUM(EMI_PM25) as emision_pm25 --las emisiones las sumamos\n",
    "        FROM CR2.emisiones_PM25_w_geo\n",
    "        GROUP BY Time, comuna, region\n",
    "    ),\n",
    "    base_agrupada as(\n",
    "        SELECT con.*, emi.emision_pm25\n",
    "        FROM base_comunal_concentracion as con\n",
    "        JOIN base_comunal_emision as emi\n",
    "            ON con.comuna=emi.comuna AND con.Time=emi.Time\n",
    "        WHERE con.region!=\"Zona sin demarcar\"\n",
    "    )\n",
    "    SELECT EXTRACT(DAYOFWEEK from Time) as day, comuna, region,\n",
    "           AVG(emision_pm25) as avg_emisionpm25, STDDEV(emision_pm25) as stddev_emisionpm25, \n",
    "           AVG(concentracion_pm25) as avg_concentracionpm25, STDDEV(concentracion_pm25) as stddev_concentracionpm25\n",
    "    FROM base_agrupada\n",
    "    GROUP BY day, comuna, region\n",
    "    '''\n",
    "    #\n",
    "    df = pandas_gbq.read_gbq(query,\n",
    "                             project_id='spike-sandbox',\n",
    "                             use_bqstorage_api=True)\n",
    "    return df"
   ]
  },
  {
   "cell_type": "code",
   "execution_count": 10,
   "metadata": {},
   "outputs": [],
   "source": [
    "def filtrar_serie_daily_por_resolucion(df, resolucion, temporal = 'hora'):\n",
    "    if resolucion == 'Todas las regiones':\n",
    "        _df = df.groupby(['region',temporal])[['avg_emisionpm25', 'avg_concentracionpm25',\n",
    "                                            'stddev_emisionpm25', 'stddev_concentracionpm25']].mean().reset_index().copy()\n",
    "        col_a_mirar = 'region'\n",
    "        \n",
    "    elif resolucion == 'Todas las comunas':\n",
    "        _df = df.copy()\n",
    "        col_a_mirar = 'comuna'\n",
    "        \n",
    "    else:\n",
    "        _df = df.query('region==@resolucion')\n",
    "        col_a_mirar = 'comuna'\n",
    "        \n",
    "    _df = simplificar_nombre_region(_df)\n",
    "    return _df, col_a_mirar\n"
   ]
  },
  {
   "cell_type": "code",
   "execution_count": 12,
   "metadata": {},
   "outputs": [],
   "source": [
    "def simplificar_nombre_region(df):\n",
    "    diccionario_regiones = {'Región de Coquimbo': 'Coquimbo' ,\n",
    "                      'Región de Valparaíso': 'Valparaíso' ,\n",
    "                      'Región Metropolitana de Santiago': 'Metropolitana' ,\n",
    "                      \"Región del Libertador Bernardo O'Higgins\": \"Lib B O'Higgins\" ,\n",
    "                      'Región del Maule': 'Maule', \n",
    "                      'Región de Ñuble': 'Ñuble' ,\n",
    "                      'Región del Bío-Bío': 'Bío-Bío' ,\n",
    "                      'Región de La Araucanía': 'La Araucanía' ,\n",
    "                      'Región de Los Ríos': 'Los Ríos' ,\n",
    "                      'Región de Los Lagos': 'Los Lagos', \n",
    "                      'Región de Aysén del Gral.Ibañez del Campo': 'Aysén' ,\n",
    "                      'Región de Magallanes y Antártica Chilena': 'Magallanes'}\n",
    "    return df.replace(diccionario_regiones).copy()"
   ]
  },
  {
   "cell_type": "code",
   "execution_count": 7,
   "metadata": {},
   "outputs": [],
   "source": [
    "import streamlit as st\n",
    "df = cargamos_serie_semanal()"
   ]
  },
  {
   "cell_type": "code",
   "execution_count": 18,
   "metadata": {},
   "outputs": [],
   "source": [
    "import plotly.graph_objects as go\n",
    "colores = [['rgb(31, 119, 180)', 'rgba(31, 119, 180, 0.2)'],\n",
    " ['rgb(255, 127, 14)', 'rgba(255, 127, 14, 0.2)'],\n",
    " ['rgb(44, 160, 44)', 'rgba(44, 160, 44, 0.2)'],\n",
    " ['rgb(214, 39, 40)', 'rgba(214, 39, 40, 0.2)'],\n",
    " ['rgb(148, 103, 189)', 'rgba(148, 103, 189, 0.2)'],\n",
    " ['rgb(140, 86, 75)', 'rgba(140, 86, 75, 0.2)'],\n",
    " ['rgb(227, 119, 194)', 'rgba(227, 119, 194, 0.2)'],\n",
    " ['rgb(127, 127, 127)', 'rgba(127, 127, 127, 0.2)'],\n",
    " ['rgb(188, 189, 34)', 'rgba(188, 189, 34, 0.2)'],\n",
    " ['rgb(23, 190, 207)', 'rgba(23, 190, 207, 0.2)']]\n",
    "TEMPLATE = \"plotly_white\"\n"
   ]
  },
  {
   "cell_type": "code",
   "execution_count": 6,
   "metadata": {},
   "outputs": [],
   "source": [
    "import pandas as pd\n",
    "def plot_weekly_curves(df : pd.DataFrame, resolucion = 'Todas las regiones', tipo = 'emision', leyenda_h=True):\n",
    "    \n",
    "    _df, col_a_mirar = filtrar_serie_daily_por_resolucion(df, resolucion, temporal = 'day')\n",
    "\n",
    "    fig = go.Figure()\n",
    "    x = list(df.sort_values(by='day').day.unique())\n",
    "    x_rev = x[::-1]\n",
    "\n",
    "    y, y_upper, y_lower = {}, {}, {}\n",
    "    k = 0\n",
    "    if tipo == 'emision':\n",
    "        columnas = ['avg_emisionpm25', 'stddev_emisionpm25']\n",
    "        yaxis_title = r\"$\\mu g/m^3$\"\n",
    "        \n",
    "    elif tipo == 'concentracion':\n",
    "        columnas = ['avg_concentracionpm25', 'stddev_concentracionpm25']\n",
    "        yaxis_title = 'concentración promedio de pm25 [?]'\n",
    "    \n",
    "    for comuna in _df[col_a_mirar].unique():\n",
    "        \n",
    "        if col_a_mirar == 'comuna':\n",
    "            aux = _df.query('comuna==@comuna').copy()\n",
    "        else:\n",
    "            aux = _df.query('region==@comuna').copy()\n",
    "        y[comuna] = list(aux[columnas[0]].values)\n",
    "        y_upper[comuna] = list(y[comuna] + aux[columnas[1]].values)\n",
    "        y_lower[comuna] = list(y[comuna] - aux[columnas[1]].values)\n",
    "        y_lower[comuna] = y_lower[comuna][::-1]\n",
    "\n",
    "        color = colores[k%len(colores)]\n",
    "        k+=1\n",
    "        fig.add_trace(go.Scatter(x=x+x_rev,\n",
    "                                y=y_upper[comuna]+y_lower[comuna],\n",
    "                                fill='toself',\n",
    "                                fillcolor=f'{color[1]}',\n",
    "                                line_color=f'rgba(255,255,255,0)',\n",
    "                                showlegend=False,\n",
    "                                name=comuna,\n",
    "                                ))\n",
    "\n",
    "        fig.add_trace(go.Scatter(x=x, y=y[comuna],\n",
    "                                line_color=f'{color[0]}',\n",
    "                                name=comuna,\n",
    "                                ))\n",
    "\n",
    "\n",
    "    fig.update_traces(mode='lines')\n",
    "    fig.update_layout(height=600, width=1000,\n",
    "                      yaxis=dict(title=yaxis_title),\n",
    "                      xaxis = dict(tickmode = 'array',\n",
    "                                   tickvals = [1,2,3,4,5,6,7],\n",
    "                                   ticktext = ['Lunes','Martes','Miércoles','Jueves','Viernes','Sábado','Domingo']),\n",
    "                      legend_title_text=col_a_mirar,\n",
    "                      template=TEMPLATE)\n",
    "    if leyenda_h:\n",
    "        fig.layout.update(legend=dict(x=-0.1, y=1.5))\n",
    "        fig.layout.update(legend_orientation=\"h\",)\n",
    "    fig.show()"
   ]
  },
  {
   "cell_type": "code",
   "execution_count": 20,
   "metadata": {},
   "outputs": [
    {
     "data": {
      "application/vnd.plotly.v1+json": {
       "config": {
        "plotlyServerURL": "https://plot.ly"
       },
       "data": [
        {
         "fill": "toself",
         "fillcolor": "rgba(31, 119, 180, 0.2)",
         "line": {
          "color": "rgba(255,255,255,0)"
         },
         "mode": "lines",
         "name": "Metropolitana",
         "showlegend": false,
         "type": "scatter",
         "x": [
          1,
          2,
          3,
          4,
          5,
          6,
          7,
          7,
          6,
          5,
          4,
          3,
          2,
          1
         ],
         "y": [
          0.03510268539176198,
          0.036000513425181783,
          0.036013932425549636,
          0.03525247454782843,
          0.03489013293201969,
          0.035672735783518705,
          0.035927642843451735,
          0.014111651946653526,
          0.014056890132706088,
          0.013693330266091767,
          0.013890822504814609,
          0.014216320647461308,
          0.014194511596805922,
          0.013808480806711664
         ]
        },
        {
         "line": {
          "color": "rgb(31, 119, 180)"
         },
         "mode": "lines",
         "name": "Metropolitana",
         "type": "scatter",
         "x": [
          1,
          2,
          3,
          4,
          5,
          6,
          7
         ],
         "y": [
          0.024455583099236823,
          0.025097512510993854,
          0.025115126536505473,
          0.02457164852632152,
          0.02429173159905573,
          0.024864812958112395,
          0.025019647395052632
         ]
        },
        {
         "fill": "toself",
         "fillcolor": "rgba(255, 127, 14, 0.2)",
         "line": {
          "color": "rgba(255,255,255,0)"
         },
         "mode": "lines",
         "name": "Aysén",
         "showlegend": false,
         "type": "scatter",
         "x": [
          1,
          2,
          3,
          4,
          5,
          6,
          7,
          7,
          6,
          5,
          4,
          3,
          2,
          1
         ],
         "y": [
          0.18527222965128493,
          0.19019160667044985,
          0.1897205587696547,
          0.18592743406550882,
          0.1850550351713274,
          0.1883596011917641,
          0.18984513195650676,
          0.06974470163849288,
          0.06920914680082356,
          0.06798058077303706,
          0.06831035705964829,
          0.06969799032694933,
          0.06987701539379323,
          0.06807198406069603
         ]
        },
        {
         "line": {
          "color": "rgb(255, 127, 14)"
         },
         "mode": "lines",
         "name": "Aysén",
         "type": "scatter",
         "x": [
          1,
          2,
          3,
          4,
          5,
          6,
          7
         ],
         "y": [
          0.12667210685599048,
          0.13003431103212154,
          0.12970927454830203,
          0.12711889556257855,
          0.12651780797218223,
          0.12878437399629383,
          0.12979491679749983
         ]
        },
        {
         "fill": "toself",
         "fillcolor": "rgba(44, 160, 44, 0.2)",
         "line": {
          "color": "rgba(255,255,255,0)"
         },
         "mode": "lines",
         "name": "Coquimbo",
         "showlegend": false,
         "type": "scatter",
         "x": [
          1,
          2,
          3,
          4,
          5,
          6,
          7,
          7,
          6,
          5,
          4,
          3,
          2,
          1
         ],
         "y": [
          0.0014669239498087247,
          0.0015119807964114758,
          0.0015126522323482905,
          0.0014761558854195934,
          0.0014568740125143328,
          0.0014982954504119072,
          0.0014993574966420825,
          0.0006230354417842544,
          0.0006254820844551114,
          0.0006042444586334088,
          0.0006162469736450007,
          0.0006336337212201991,
          0.0006319009623357149,
          0.0006110572135244686
         ]
        },
        {
         "line": {
          "color": "rgb(44, 160, 44)"
         },
         "mode": "lines",
         "name": "Coquimbo",
         "type": "scatter",
         "x": [
          1,
          2,
          3,
          4,
          5,
          6,
          7
         ],
         "y": [
          0.0010389905816665967,
          0.0010719408793735954,
          0.0010731429767842449,
          0.001046201429532297,
          0.0010305592355738709,
          0.0010618887674335093,
          0.0010611964692131685
         ]
        },
        {
         "fill": "toself",
         "fillcolor": "rgba(214, 39, 40, 0.2)",
         "line": {
          "color": "rgba(255,255,255,0)"
         },
         "mode": "lines",
         "name": "La Araucanía",
         "showlegend": false,
         "type": "scatter",
         "x": [
          1,
          2,
          3,
          4,
          5,
          6,
          7,
          7,
          6,
          5,
          4,
          3,
          2,
          1
         ],
         "y": [
          0.17541892423068303,
          0.17972384358349108,
          0.17942798963161033,
          0.17592067475876771,
          0.1749231444076959,
          0.17819462926578122,
          0.17979718801083103,
          0.06631293329721663,
          0.06573150083630395,
          0.06451049741698192,
          0.06488552630820589,
          0.06617561719813488,
          0.06628988589076158,
          0.0647053888650238
         ]
        },
        {
         "line": {
          "color": "rgb(214, 39, 40)"
         },
         "mode": "lines",
         "name": "La Araucanía",
         "type": "scatter",
         "x": [
          1,
          2,
          3,
          4,
          5,
          6,
          7
         ],
         "y": [
          0.12006215654785342,
          0.12300686473712634,
          0.1228018034148726,
          0.1204031005334868,
          0.11971682091233891,
          0.1219630650510426,
          0.12305506065402383
         ]
        },
        {
         "fill": "toself",
         "fillcolor": "rgba(148, 103, 189, 0.2)",
         "line": {
          "color": "rgba(255,255,255,0)"
         },
         "mode": "lines",
         "name": "Los Lagos",
         "showlegend": false,
         "type": "scatter",
         "x": [
          1,
          2,
          3,
          4,
          5,
          6,
          7,
          7,
          6,
          5,
          4,
          3,
          2,
          1
         ],
         "y": [
          0.1755191184148615,
          0.18008200937760696,
          0.17967742772616163,
          0.17610312925331661,
          0.17523192772522606,
          0.17840822353294228,
          0.17986527360490467,
          0.0665441168216333,
          0.06601460348619632,
          0.06482508434152365,
          0.0651541623766057,
          0.06647326787764342,
          0.06662808573572254,
          0.06494317425062435
         ]
        },
        {
         "line": {
          "color": "rgb(148, 103, 189)"
         },
         "mode": "lines",
         "name": "Los Lagos",
         "type": "scatter",
         "x": [
          1,
          2,
          3,
          4,
          5,
          6,
          7
         ],
         "y": [
          0.12023114633274293,
          0.12335504755666475,
          0.12307534780190252,
          0.12062864581496116,
          0.12002850603337485,
          0.12221141350956931,
          0.12320469521326899
         ]
        },
        {
         "fill": "toself",
         "fillcolor": "rgba(140, 86, 75, 0.2)",
         "line": {
          "color": "rgba(255,255,255,0)"
         },
         "mode": "lines",
         "name": "Los Ríos",
         "showlegend": false,
         "type": "scatter",
         "x": [
          1,
          2,
          3,
          4,
          5,
          6,
          7,
          7,
          6,
          5,
          4,
          3,
          2,
          1
         ],
         "y": [
          0.24142720226084113,
          0.24778002850055497,
          0.24719256803891837,
          0.24226825767170035,
          0.24109038714985592,
          0.24542604280542998,
          0.2473938698235994,
          0.09206676625597222,
          0.09134846290229207,
          0.08971448919079877,
          0.0901691246008262,
          0.09199249045416208,
          0.09221878430985515,
          0.08985645984271425
         ]
        },
        {
         "line": {
          "color": "rgb(140, 86, 75)"
         },
         "mode": "lines",
         "name": "Los Ríos",
         "type": "scatter",
         "x": [
          1,
          2,
          3,
          4,
          5,
          6,
          7
         ],
         "y": [
          0.16564183105177768,
          0.16999940640520506,
          0.16959252924654022,
          0.16621869113626328,
          0.16540243817032735,
          0.16838725285386102,
          0.1697303180397858
         ]
        },
        {
         "fill": "toself",
         "fillcolor": "rgba(227, 119, 194, 0.2)",
         "line": {
          "color": "rgba(255,255,255,0)"
         },
         "mode": "lines",
         "name": "Magallanes",
         "showlegend": false,
         "type": "scatter",
         "x": [
          1,
          2,
          3,
          4,
          5,
          6,
          7,
          7,
          6,
          5,
          4,
          3,
          2,
          1
         ],
         "y": [
          0.0013698634274304073,
          0.0014008266346746676,
          0.0013988779836153027,
          0.001372772543230096,
          0.001357228029306513,
          0.0014102867199741727,
          0.001408229337184901,
          0.0005164451779940194,
          0.0005171815871370764,
          0.0004977135776358642,
          0.0005033750609858966,
          0.0005129367363605963,
          0.0005137414999292517,
          0.0005024096932376632
         ]
        },
        {
         "line": {
          "color": "rgb(227, 119, 194)"
         },
         "mode": "lines",
         "name": "Magallanes",
         "type": "scatter",
         "x": [
          1,
          2,
          3,
          4,
          5,
          6,
          7
         ],
         "y": [
          0.0009361365603340353,
          0.0009572840673019597,
          0.0009559073599879495,
          0.0009380738021079963,
          0.0009274708034711886,
          0.0009637341535556245,
          0.0009623372575894602
         ]
        },
        {
         "fill": "toself",
         "fillcolor": "rgba(127, 127, 127, 0.2)",
         "line": {
          "color": "rgba(255,255,255,0)"
         },
         "mode": "lines",
         "name": "Valparaíso",
         "showlegend": false,
         "type": "scatter",
         "x": [
          1,
          2,
          3,
          4,
          5,
          6,
          7,
          7,
          6,
          5,
          4,
          3,
          2,
          1
         ],
         "y": [
          0.010815862702066985,
          0.01105470437499151,
          0.011060237117558422,
          0.0108407471906258,
          0.010738212146379,
          0.010986244875209574,
          0.011084749998025573,
          0.0042016001906945094,
          0.004170759181244288,
          0.004067933566518049,
          0.004114679295314529,
          0.004202941804959673,
          0.004198253391663185,
          0.0041031513848060405
         ]
        },
        {
         "line": {
          "color": "rgb(127, 127, 127)"
         },
         "mode": "lines",
         "name": "Valparaíso",
         "type": "scatter",
         "x": [
          1,
          2,
          3,
          4,
          5,
          6,
          7
         ],
         "y": [
          0.007459507043436513,
          0.007626478883327348,
          0.007631589461259047,
          0.007477713242970164,
          0.007403072856448524,
          0.007578502028226931,
          0.007643175094360042
         ]
        },
        {
         "fill": "toself",
         "fillcolor": "rgba(188, 189, 34, 0.2)",
         "line": {
          "color": "rgba(255,255,255,0)"
         },
         "mode": "lines",
         "name": "Ñuble",
         "showlegend": false,
         "type": "scatter",
         "x": [
          1,
          2,
          3,
          4,
          5,
          6,
          7,
          7,
          6,
          5,
          4,
          3,
          2,
          1
         ],
         "y": [
          0.1080240238656435,
          0.11052921131475116,
          0.11040718636899184,
          0.10828486551642111,
          0.10759808382857428,
          0.10968141110704838,
          0.11074283788384628,
          0.040658777722808466,
          0.04027374041198081,
          0.03950112516714621,
          0.03975638536749313,
          0.04053331217942484,
          0.040581671504444056,
          0.03966458734876948
         ]
        },
        {
         "line": {
          "color": "rgb(188, 189, 34)"
         },
         "mode": "lines",
         "name": "Ñuble",
         "type": "scatter",
         "x": [
          1,
          2,
          3,
          4,
          5,
          6,
          7
         ],
         "y": [
          0.07384430560720649,
          0.0755554414095976,
          0.07547024927420834,
          0.07402062544195712,
          0.07354960449786024,
          0.0749775757595146,
          0.07570080780332737
         ]
        },
        {
         "fill": "toself",
         "fillcolor": "rgba(23, 190, 207, 0.2)",
         "line": {
          "color": "rgba(255,255,255,0)"
         },
         "mode": "lines",
         "name": "Bío-Bío",
         "showlegend": false,
         "type": "scatter",
         "x": [
          1,
          2,
          3,
          4,
          5,
          6,
          7,
          7,
          6,
          5,
          4,
          3,
          2,
          1
         ],
         "y": [
          0.0858464425024046,
          0.08785153156239234,
          0.08776171309026165,
          0.08605948905012963,
          0.08549458182752961,
          0.08717405037060229,
          0.08799905932467753,
          0.03251853890588704,
          0.032223426356416396,
          0.03158754850900283,
          0.03180695960638347,
          0.032440200782123674,
          0.03247268284649914,
          0.03172948893779558
         ]
        },
        {
         "line": {
          "color": "rgb(23, 190, 207)"
         },
         "mode": "lines",
         "name": "Bío-Bío",
         "type": "scatter",
         "x": [
          1,
          2,
          3,
          4,
          5,
          6,
          7
         ],
         "y": [
          0.05878796572010009,
          0.06016210720444574,
          0.06010095693619266,
          0.058933224328256546,
          0.058541065168266224,
          0.05969873836350934,
          0.060258799115282285
         ]
        },
        {
         "fill": "toself",
         "fillcolor": "rgba(31, 119, 180, 0.2)",
         "line": {
          "color": "rgba(255,255,255,0)"
         },
         "mode": "lines",
         "name": "Lib B O'Higgins",
         "showlegend": false,
         "type": "scatter",
         "x": [
          1,
          2,
          3,
          4,
          5,
          6,
          7,
          7,
          6,
          5,
          4,
          3,
          2,
          1
         ],
         "y": [
          0.014323095341250489,
          0.014702420406365851,
          0.01467666036680565,
          0.014379087886818456,
          0.014285983880966654,
          0.014565042584632312,
          0.014672237979355567,
          0.005503991745817719,
          0.005469479006389927,
          0.0053569926903754995,
          0.0054003831224423236,
          0.005514464384810791,
          0.005522286599028858,
          0.005376032732996619
         ]
        },
        {
         "line": {
          "color": "rgb(31, 119, 180)"
         },
         "mode": "lines",
         "name": "Lib B O'Higgins",
         "type": "scatter",
         "x": [
          1,
          2,
          3,
          4,
          5,
          6,
          7
         ],
         "y": [
          0.009849564037123554,
          0.010112353502697355,
          0.01009556237580822,
          0.00988973550463039,
          0.009821488285671077,
          0.010017260795511119,
          0.010088114862586643
         ]
        },
        {
         "fill": "toself",
         "fillcolor": "rgba(255, 127, 14, 0.2)",
         "line": {
          "color": "rgba(255,255,255,0)"
         },
         "mode": "lines",
         "name": "Maule",
         "showlegend": false,
         "type": "scatter",
         "x": [
          1,
          2,
          3,
          4,
          5,
          6,
          7,
          7,
          6,
          5,
          4,
          3,
          2,
          1
         ],
         "y": [
          0.035072139156289615,
          0.03591829473297502,
          0.03587759934751162,
          0.035174016279149525,
          0.034941057113030374,
          0.03561929631781798,
          0.03594287851271452,
          0.013334713012825445,
          0.013222749630542088,
          0.012960466583115195,
          0.013056860563062173,
          0.013321037907515777,
          0.013334493302731605,
          0.013016043719910358
         ]
        },
        {
         "line": {
          "color": "rgb(255, 127, 14)"
         },
         "mode": "lines",
         "name": "Maule",
         "type": "scatter",
         "x": [
          1,
          2,
          3,
          4,
          5,
          6,
          7
         ],
         "y": [
          0.024044091438099987,
          0.024626394017853312,
          0.0245993186275137,
          0.024115438421105848,
          0.023950761848072787,
          0.024421022974180036,
          0.024638795762769984
         ]
        }
       ],
       "layout": {
        "height": 600,
        "legend": {
         "orientation": "h",
         "title": {
          "text": "region"
         },
         "x": -0.1,
         "y": 1.5
        },
        "template": {
         "data": {
          "bar": [
           {
            "error_x": {
             "color": "#2a3f5f"
            },
            "error_y": {
             "color": "#2a3f5f"
            },
            "marker": {
             "line": {
              "color": "white",
              "width": 0.5
             }
            },
            "type": "bar"
           }
          ],
          "barpolar": [
           {
            "marker": {
             "line": {
              "color": "white",
              "width": 0.5
             }
            },
            "type": "barpolar"
           }
          ],
          "carpet": [
           {
            "aaxis": {
             "endlinecolor": "#2a3f5f",
             "gridcolor": "#C8D4E3",
             "linecolor": "#C8D4E3",
             "minorgridcolor": "#C8D4E3",
             "startlinecolor": "#2a3f5f"
            },
            "baxis": {
             "endlinecolor": "#2a3f5f",
             "gridcolor": "#C8D4E3",
             "linecolor": "#C8D4E3",
             "minorgridcolor": "#C8D4E3",
             "startlinecolor": "#2a3f5f"
            },
            "type": "carpet"
           }
          ],
          "choropleth": [
           {
            "colorbar": {
             "outlinewidth": 0,
             "ticks": ""
            },
            "type": "choropleth"
           }
          ],
          "contour": [
           {
            "colorbar": {
             "outlinewidth": 0,
             "ticks": ""
            },
            "colorscale": [
             [
              0,
              "#0d0887"
             ],
             [
              0.1111111111111111,
              "#46039f"
             ],
             [
              0.2222222222222222,
              "#7201a8"
             ],
             [
              0.3333333333333333,
              "#9c179e"
             ],
             [
              0.4444444444444444,
              "#bd3786"
             ],
             [
              0.5555555555555556,
              "#d8576b"
             ],
             [
              0.6666666666666666,
              "#ed7953"
             ],
             [
              0.7777777777777778,
              "#fb9f3a"
             ],
             [
              0.8888888888888888,
              "#fdca26"
             ],
             [
              1,
              "#f0f921"
             ]
            ],
            "type": "contour"
           }
          ],
          "contourcarpet": [
           {
            "colorbar": {
             "outlinewidth": 0,
             "ticks": ""
            },
            "type": "contourcarpet"
           }
          ],
          "heatmap": [
           {
            "colorbar": {
             "outlinewidth": 0,
             "ticks": ""
            },
            "colorscale": [
             [
              0,
              "#0d0887"
             ],
             [
              0.1111111111111111,
              "#46039f"
             ],
             [
              0.2222222222222222,
              "#7201a8"
             ],
             [
              0.3333333333333333,
              "#9c179e"
             ],
             [
              0.4444444444444444,
              "#bd3786"
             ],
             [
              0.5555555555555556,
              "#d8576b"
             ],
             [
              0.6666666666666666,
              "#ed7953"
             ],
             [
              0.7777777777777778,
              "#fb9f3a"
             ],
             [
              0.8888888888888888,
              "#fdca26"
             ],
             [
              1,
              "#f0f921"
             ]
            ],
            "type": "heatmap"
           }
          ],
          "heatmapgl": [
           {
            "colorbar": {
             "outlinewidth": 0,
             "ticks": ""
            },
            "colorscale": [
             [
              0,
              "#0d0887"
             ],
             [
              0.1111111111111111,
              "#46039f"
             ],
             [
              0.2222222222222222,
              "#7201a8"
             ],
             [
              0.3333333333333333,
              "#9c179e"
             ],
             [
              0.4444444444444444,
              "#bd3786"
             ],
             [
              0.5555555555555556,
              "#d8576b"
             ],
             [
              0.6666666666666666,
              "#ed7953"
             ],
             [
              0.7777777777777778,
              "#fb9f3a"
             ],
             [
              0.8888888888888888,
              "#fdca26"
             ],
             [
              1,
              "#f0f921"
             ]
            ],
            "type": "heatmapgl"
           }
          ],
          "histogram": [
           {
            "marker": {
             "colorbar": {
              "outlinewidth": 0,
              "ticks": ""
             }
            },
            "type": "histogram"
           }
          ],
          "histogram2d": [
           {
            "colorbar": {
             "outlinewidth": 0,
             "ticks": ""
            },
            "colorscale": [
             [
              0,
              "#0d0887"
             ],
             [
              0.1111111111111111,
              "#46039f"
             ],
             [
              0.2222222222222222,
              "#7201a8"
             ],
             [
              0.3333333333333333,
              "#9c179e"
             ],
             [
              0.4444444444444444,
              "#bd3786"
             ],
             [
              0.5555555555555556,
              "#d8576b"
             ],
             [
              0.6666666666666666,
              "#ed7953"
             ],
             [
              0.7777777777777778,
              "#fb9f3a"
             ],
             [
              0.8888888888888888,
              "#fdca26"
             ],
             [
              1,
              "#f0f921"
             ]
            ],
            "type": "histogram2d"
           }
          ],
          "histogram2dcontour": [
           {
            "colorbar": {
             "outlinewidth": 0,
             "ticks": ""
            },
            "colorscale": [
             [
              0,
              "#0d0887"
             ],
             [
              0.1111111111111111,
              "#46039f"
             ],
             [
              0.2222222222222222,
              "#7201a8"
             ],
             [
              0.3333333333333333,
              "#9c179e"
             ],
             [
              0.4444444444444444,
              "#bd3786"
             ],
             [
              0.5555555555555556,
              "#d8576b"
             ],
             [
              0.6666666666666666,
              "#ed7953"
             ],
             [
              0.7777777777777778,
              "#fb9f3a"
             ],
             [
              0.8888888888888888,
              "#fdca26"
             ],
             [
              1,
              "#f0f921"
             ]
            ],
            "type": "histogram2dcontour"
           }
          ],
          "mesh3d": [
           {
            "colorbar": {
             "outlinewidth": 0,
             "ticks": ""
            },
            "type": "mesh3d"
           }
          ],
          "parcoords": [
           {
            "line": {
             "colorbar": {
              "outlinewidth": 0,
              "ticks": ""
             }
            },
            "type": "parcoords"
           }
          ],
          "pie": [
           {
            "automargin": true,
            "type": "pie"
           }
          ],
          "scatter": [
           {
            "marker": {
             "colorbar": {
              "outlinewidth": 0,
              "ticks": ""
             }
            },
            "type": "scatter"
           }
          ],
          "scatter3d": [
           {
            "line": {
             "colorbar": {
              "outlinewidth": 0,
              "ticks": ""
             }
            },
            "marker": {
             "colorbar": {
              "outlinewidth": 0,
              "ticks": ""
             }
            },
            "type": "scatter3d"
           }
          ],
          "scattercarpet": [
           {
            "marker": {
             "colorbar": {
              "outlinewidth": 0,
              "ticks": ""
             }
            },
            "type": "scattercarpet"
           }
          ],
          "scattergeo": [
           {
            "marker": {
             "colorbar": {
              "outlinewidth": 0,
              "ticks": ""
             }
            },
            "type": "scattergeo"
           }
          ],
          "scattergl": [
           {
            "marker": {
             "colorbar": {
              "outlinewidth": 0,
              "ticks": ""
             }
            },
            "type": "scattergl"
           }
          ],
          "scattermapbox": [
           {
            "marker": {
             "colorbar": {
              "outlinewidth": 0,
              "ticks": ""
             }
            },
            "type": "scattermapbox"
           }
          ],
          "scatterpolar": [
           {
            "marker": {
             "colorbar": {
              "outlinewidth": 0,
              "ticks": ""
             }
            },
            "type": "scatterpolar"
           }
          ],
          "scatterpolargl": [
           {
            "marker": {
             "colorbar": {
              "outlinewidth": 0,
              "ticks": ""
             }
            },
            "type": "scatterpolargl"
           }
          ],
          "scatterternary": [
           {
            "marker": {
             "colorbar": {
              "outlinewidth": 0,
              "ticks": ""
             }
            },
            "type": "scatterternary"
           }
          ],
          "surface": [
           {
            "colorbar": {
             "outlinewidth": 0,
             "ticks": ""
            },
            "colorscale": [
             [
              0,
              "#0d0887"
             ],
             [
              0.1111111111111111,
              "#46039f"
             ],
             [
              0.2222222222222222,
              "#7201a8"
             ],
             [
              0.3333333333333333,
              "#9c179e"
             ],
             [
              0.4444444444444444,
              "#bd3786"
             ],
             [
              0.5555555555555556,
              "#d8576b"
             ],
             [
              0.6666666666666666,
              "#ed7953"
             ],
             [
              0.7777777777777778,
              "#fb9f3a"
             ],
             [
              0.8888888888888888,
              "#fdca26"
             ],
             [
              1,
              "#f0f921"
             ]
            ],
            "type": "surface"
           }
          ],
          "table": [
           {
            "cells": {
             "fill": {
              "color": "#EBF0F8"
             },
             "line": {
              "color": "white"
             }
            },
            "header": {
             "fill": {
              "color": "#C8D4E3"
             },
             "line": {
              "color": "white"
             }
            },
            "type": "table"
           }
          ]
         },
         "layout": {
          "annotationdefaults": {
           "arrowcolor": "#2a3f5f",
           "arrowhead": 0,
           "arrowwidth": 1
          },
          "coloraxis": {
           "colorbar": {
            "outlinewidth": 0,
            "ticks": ""
           }
          },
          "colorscale": {
           "diverging": [
            [
             0,
             "#8e0152"
            ],
            [
             0.1,
             "#c51b7d"
            ],
            [
             0.2,
             "#de77ae"
            ],
            [
             0.3,
             "#f1b6da"
            ],
            [
             0.4,
             "#fde0ef"
            ],
            [
             0.5,
             "#f7f7f7"
            ],
            [
             0.6,
             "#e6f5d0"
            ],
            [
             0.7,
             "#b8e186"
            ],
            [
             0.8,
             "#7fbc41"
            ],
            [
             0.9,
             "#4d9221"
            ],
            [
             1,
             "#276419"
            ]
           ],
           "sequential": [
            [
             0,
             "#0d0887"
            ],
            [
             0.1111111111111111,
             "#46039f"
            ],
            [
             0.2222222222222222,
             "#7201a8"
            ],
            [
             0.3333333333333333,
             "#9c179e"
            ],
            [
             0.4444444444444444,
             "#bd3786"
            ],
            [
             0.5555555555555556,
             "#d8576b"
            ],
            [
             0.6666666666666666,
             "#ed7953"
            ],
            [
             0.7777777777777778,
             "#fb9f3a"
            ],
            [
             0.8888888888888888,
             "#fdca26"
            ],
            [
             1,
             "#f0f921"
            ]
           ],
           "sequentialminus": [
            [
             0,
             "#0d0887"
            ],
            [
             0.1111111111111111,
             "#46039f"
            ],
            [
             0.2222222222222222,
             "#7201a8"
            ],
            [
             0.3333333333333333,
             "#9c179e"
            ],
            [
             0.4444444444444444,
             "#bd3786"
            ],
            [
             0.5555555555555556,
             "#d8576b"
            ],
            [
             0.6666666666666666,
             "#ed7953"
            ],
            [
             0.7777777777777778,
             "#fb9f3a"
            ],
            [
             0.8888888888888888,
             "#fdca26"
            ],
            [
             1,
             "#f0f921"
            ]
           ]
          },
          "colorway": [
           "#636efa",
           "#EF553B",
           "#00cc96",
           "#ab63fa",
           "#FFA15A",
           "#19d3f3",
           "#FF6692",
           "#B6E880",
           "#FF97FF",
           "#FECB52"
          ],
          "font": {
           "color": "#2a3f5f"
          },
          "geo": {
           "bgcolor": "white",
           "lakecolor": "white",
           "landcolor": "white",
           "showlakes": true,
           "showland": true,
           "subunitcolor": "#C8D4E3"
          },
          "hoverlabel": {
           "align": "left"
          },
          "hovermode": "closest",
          "mapbox": {
           "style": "light"
          },
          "paper_bgcolor": "white",
          "plot_bgcolor": "white",
          "polar": {
           "angularaxis": {
            "gridcolor": "#EBF0F8",
            "linecolor": "#EBF0F8",
            "ticks": ""
           },
           "bgcolor": "white",
           "radialaxis": {
            "gridcolor": "#EBF0F8",
            "linecolor": "#EBF0F8",
            "ticks": ""
           }
          },
          "scene": {
           "xaxis": {
            "backgroundcolor": "white",
            "gridcolor": "#DFE8F3",
            "gridwidth": 2,
            "linecolor": "#EBF0F8",
            "showbackground": true,
            "ticks": "",
            "zerolinecolor": "#EBF0F8"
           },
           "yaxis": {
            "backgroundcolor": "white",
            "gridcolor": "#DFE8F3",
            "gridwidth": 2,
            "linecolor": "#EBF0F8",
            "showbackground": true,
            "ticks": "",
            "zerolinecolor": "#EBF0F8"
           },
           "zaxis": {
            "backgroundcolor": "white",
            "gridcolor": "#DFE8F3",
            "gridwidth": 2,
            "linecolor": "#EBF0F8",
            "showbackground": true,
            "ticks": "",
            "zerolinecolor": "#EBF0F8"
           }
          },
          "shapedefaults": {
           "line": {
            "color": "#2a3f5f"
           }
          },
          "ternary": {
           "aaxis": {
            "gridcolor": "#DFE8F3",
            "linecolor": "#A2B1C6",
            "ticks": ""
           },
           "baxis": {
            "gridcolor": "#DFE8F3",
            "linecolor": "#A2B1C6",
            "ticks": ""
           },
           "bgcolor": "white",
           "caxis": {
            "gridcolor": "#DFE8F3",
            "linecolor": "#A2B1C6",
            "ticks": ""
           }
          },
          "title": {
           "x": 0.05
          },
          "xaxis": {
           "automargin": true,
           "gridcolor": "#EBF0F8",
           "linecolor": "#EBF0F8",
           "ticks": "",
           "title": {
            "standoff": 15
           },
           "zerolinecolor": "#EBF0F8",
           "zerolinewidth": 2
          },
          "yaxis": {
           "automargin": true,
           "gridcolor": "#EBF0F8",
           "linecolor": "#EBF0F8",
           "ticks": "",
           "title": {
            "standoff": 15
           },
           "zerolinecolor": "#EBF0F8",
           "zerolinewidth": 2
          }
         }
        },
        "width": 1000,
        "xaxis": {
         "autorange": true,
         "range": [
          1,
          7
         ],
         "tickmode": "array",
         "ticktext": [
          "Lunes",
          "Martes",
          "Miércoles",
          "Jueves",
          "Viernes",
          "Sábado",
          "Domingo"
         ],
         "tickvals": [
          1,
          2,
          3,
          4,
          5,
          6,
          7
         ],
         "type": "linear"
        },
        "yaxis": {
         "autorange": true,
         "range": [
          -0.013240192806970752,
          0.26151793488516156
         ],
         "title": {
          "text": "$\\text{emisión promedio de pm25} \\mu g/m^3$"
         },
         "type": "linear"
        }
       }
      },
      "image/png": "[encoded data removed]",
      "text/html": [
       "<div>\n",
       "        \n",
       "        \n",
       "            <div id=\"fbc5d553-bc85-4ab7-9485-9f9c4fb7a824\" class=\"plotly-graph-div\" style=\"height:600px; width:1000px;\"></div>\n",
       "            <script type=\"text/javascript\">\n",
       "                require([\"plotly\"], function(Plotly) {\n",
       "                    window.PLOTLYENV=window.PLOTLYENV || {};\n",
       "                    \n",
       "                if (document.getElementById(\"fbc5d553-bc85-4ab7-9485-9f9c4fb7a824\")) {\n",
       "                    Plotly.newPlot(\n",
       "                        'fbc5d553-bc85-4ab7-9485-9f9c4fb7a824',\n",
       "                        [{\"fill\": \"toself\", \"fillcolor\": \"rgba(31, 119, 180, 0.2)\", \"line\": {\"color\": \"rgba(255,255,255,0)\"}, \"mode\": \"lines\", \"name\": \"Metropolitana\", \"showlegend\": false, \"type\": \"scatter\", \"x\": [1, 2, 3, 4, 5, 6, 7, 7, 6, 5, 4, 3, 2, 1], \"y\": [0.03510268539176198, 0.036000513425181783, 0.036013932425549636, 0.03525247454782843, 0.03489013293201969, 0.035672735783518705, 0.035927642843451735, 0.014111651946653526, 0.014056890132706088, 0.013693330266091767, 0.013890822504814609, 0.014216320647461308, 0.014194511596805922, 0.013808480806711664]}, {\"line\": {\"color\": \"rgb(31, 119, 180)\"}, \"mode\": \"lines\", \"name\": \"Metropolitana\", \"type\": \"scatter\", \"x\": [1, 2, 3, 4, 5, 6, 7], \"y\": [0.024455583099236823, 0.025097512510993854, 0.025115126536505473, 0.02457164852632152, 0.02429173159905573, 0.024864812958112395, 0.025019647395052632]}, {\"fill\": \"toself\", \"fillcolor\": \"rgba(255, 127, 14, 0.2)\", \"line\": {\"color\": \"rgba(255,255,255,0)\"}, \"mode\": \"lines\", \"name\": \"Ays\\u00e9n\", \"showlegend\": false, \"type\": \"scatter\", \"x\": [1, 2, 3, 4, 5, 6, 7, 7, 6, 5, 4, 3, 2, 1], \"y\": [0.18527222965128493, 0.19019160667044985, 0.1897205587696547, 0.18592743406550882, 0.1850550351713274, 0.1883596011917641, 0.18984513195650676, 0.06974470163849288, 0.06920914680082356, 0.06798058077303706, 0.06831035705964829, 0.06969799032694933, 0.06987701539379323, 0.06807198406069603]}, {\"line\": {\"color\": \"rgb(255, 127, 14)\"}, \"mode\": \"lines\", \"name\": \"Ays\\u00e9n\", \"type\": \"scatter\", \"x\": [1, 2, 3, 4, 5, 6, 7], \"y\": [0.12667210685599048, 0.13003431103212154, 0.12970927454830203, 0.12711889556257855, 0.12651780797218223, 0.12878437399629383, 0.12979491679749983]}, {\"fill\": \"toself\", \"fillcolor\": \"rgba(44, 160, 44, 0.2)\", \"line\": {\"color\": \"rgba(255,255,255,0)\"}, \"mode\": \"lines\", \"name\": \"Coquimbo\", \"showlegend\": false, \"type\": \"scatter\", \"x\": [1, 2, 3, 4, 5, 6, 7, 7, 6, 5, 4, 3, 2, 1], \"y\": [0.0014669239498087247, 0.0015119807964114758, 0.0015126522323482905, 0.0014761558854195934, 0.0014568740125143328, 0.0014982954504119072, 0.0014993574966420825, 0.0006230354417842544, 0.0006254820844551114, 0.0006042444586334088, 0.0006162469736450007, 0.0006336337212201991, 0.0006319009623357149, 0.0006110572135244686]}, {\"line\": {\"color\": \"rgb(44, 160, 44)\"}, \"mode\": \"lines\", \"name\": \"Coquimbo\", \"type\": \"scatter\", \"x\": [1, 2, 3, 4, 5, 6, 7], \"y\": [0.0010389905816665967, 0.0010719408793735954, 0.0010731429767842449, 0.001046201429532297, 0.0010305592355738709, 0.0010618887674335093, 0.0010611964692131685]}, {\"fill\": \"toself\", \"fillcolor\": \"rgba(214, 39, 40, 0.2)\", \"line\": {\"color\": \"rgba(255,255,255,0)\"}, \"mode\": \"lines\", \"name\": \"La Araucan\\u00eda\", \"showlegend\": false, \"type\": \"scatter\", \"x\": [1, 2, 3, 4, 5, 6, 7, 7, 6, 5, 4, 3, 2, 1], \"y\": [0.17541892423068303, 0.17972384358349108, 0.17942798963161033, 0.17592067475876771, 0.1749231444076959, 0.17819462926578122, 0.17979718801083103, 0.06631293329721663, 0.06573150083630395, 0.06451049741698192, 0.06488552630820589, 0.06617561719813488, 0.06628988589076158, 0.0647053888650238]}, {\"line\": {\"color\": \"rgb(214, 39, 40)\"}, \"mode\": \"lines\", \"name\": \"La Araucan\\u00eda\", \"type\": \"scatter\", \"x\": [1, 2, 3, 4, 5, 6, 7], \"y\": [0.12006215654785342, 0.12300686473712634, 0.1228018034148726, 0.1204031005334868, 0.11971682091233891, 0.1219630650510426, 0.12305506065402383]}, {\"fill\": \"toself\", \"fillcolor\": \"rgba(148, 103, 189, 0.2)\", \"line\": {\"color\": \"rgba(255,255,255,0)\"}, \"mode\": \"lines\", \"name\": \"Los Lagos\", \"showlegend\": false, \"type\": \"scatter\", \"x\": [1, 2, 3, 4, 5, 6, 7, 7, 6, 5, 4, 3, 2, 1], \"y\": [0.1755191184148615, 0.18008200937760696, 0.17967742772616163, 0.17610312925331661, 0.17523192772522606, 0.17840822353294228, 0.17986527360490467, 0.0665441168216333, 0.06601460348619632, 0.06482508434152365, 0.0651541623766057, 0.06647326787764342, 0.06662808573572254, 0.06494317425062435]}, {\"line\": {\"color\": \"rgb(148, 103, 189)\"}, \"mode\": \"lines\", \"name\": \"Los Lagos\", \"type\": \"scatter\", \"x\": [1, 2, 3, 4, 5, 6, 7], \"y\": [0.12023114633274293, 0.12335504755666475, 0.12307534780190252, 0.12062864581496116, 0.12002850603337485, 0.12221141350956931, 0.12320469521326899]}, {\"fill\": \"toself\", \"fillcolor\": \"rgba(140, 86, 75, 0.2)\", \"line\": {\"color\": \"rgba(255,255,255,0)\"}, \"mode\": \"lines\", \"name\": \"Los R\\u00edos\", \"showlegend\": false, \"type\": \"scatter\", \"x\": [1, 2, 3, 4, 5, 6, 7, 7, 6, 5, 4, 3, 2, 1], \"y\": [0.24142720226084113, 0.24778002850055497, 0.24719256803891837, 0.24226825767170035, 0.24109038714985592, 0.24542604280542998, 0.2473938698235994, 0.09206676625597222, 0.09134846290229207, 0.08971448919079877, 0.0901691246008262, 0.09199249045416208, 0.09221878430985515, 0.08985645984271425]}, {\"line\": {\"color\": \"rgb(140, 86, 75)\"}, \"mode\": \"lines\", \"name\": \"Los R\\u00edos\", \"type\": \"scatter\", \"x\": [1, 2, 3, 4, 5, 6, 7], \"y\": [0.16564183105177768, 0.16999940640520506, 0.16959252924654022, 0.16621869113626328, 0.16540243817032735, 0.16838725285386102, 0.1697303180397858]}, {\"fill\": \"toself\", \"fillcolor\": \"rgba(227, 119, 194, 0.2)\", \"line\": {\"color\": \"rgba(255,255,255,0)\"}, \"mode\": \"lines\", \"name\": \"Magallanes\", \"showlegend\": false, \"type\": \"scatter\", \"x\": [1, 2, 3, 4, 5, 6, 7, 7, 6, 5, 4, 3, 2, 1], \"y\": [0.0013698634274304073, 0.0014008266346746676, 0.0013988779836153027, 0.001372772543230096, 0.001357228029306513, 0.0014102867199741727, 0.001408229337184901, 0.0005164451779940194, 0.0005171815871370764, 0.0004977135776358642, 0.0005033750609858966, 0.0005129367363605963, 0.0005137414999292517, 0.0005024096932376632]}, {\"line\": {\"color\": \"rgb(227, 119, 194)\"}, \"mode\": \"lines\", \"name\": \"Magallanes\", \"type\": \"scatter\", \"x\": [1, 2, 3, 4, 5, 6, 7], \"y\": [0.0009361365603340353, 0.0009572840673019597, 0.0009559073599879495, 0.0009380738021079963, 0.0009274708034711886, 0.0009637341535556245, 0.0009623372575894602]}, {\"fill\": \"toself\", \"fillcolor\": \"rgba(127, 127, 127, 0.2)\", \"line\": {\"color\": \"rgba(255,255,255,0)\"}, \"mode\": \"lines\", \"name\": \"Valpara\\u00edso\", \"showlegend\": false, \"type\": \"scatter\", \"x\": [1, 2, 3, 4, 5, 6, 7, 7, 6, 5, 4, 3, 2, 1], \"y\": [0.010815862702066985, 0.01105470437499151, 0.011060237117558422, 0.0108407471906258, 0.010738212146379, 0.010986244875209574, 0.011084749998025573, 0.0042016001906945094, 0.004170759181244288, 0.004067933566518049, 0.004114679295314529, 0.004202941804959673, 0.004198253391663185, 0.0041031513848060405]}, {\"line\": {\"color\": \"rgb(127, 127, 127)\"}, \"mode\": \"lines\", \"name\": \"Valpara\\u00edso\", \"type\": \"scatter\", \"x\": [1, 2, 3, 4, 5, 6, 7], \"y\": [0.007459507043436513, 0.007626478883327348, 0.007631589461259047, 0.007477713242970164, 0.007403072856448524, 0.007578502028226931, 0.007643175094360042]}, {\"fill\": \"toself\", \"fillcolor\": \"rgba(188, 189, 34, 0.2)\", \"line\": {\"color\": \"rgba(255,255,255,0)\"}, \"mode\": \"lines\", \"name\": \"\\u00d1uble\", \"showlegend\": false, \"type\": \"scatter\", \"x\": [1, 2, 3, 4, 5, 6, 7, 7, 6, 5, 4, 3, 2, 1], \"y\": [0.1080240238656435, 0.11052921131475116, 0.11040718636899184, 0.10828486551642111, 0.10759808382857428, 0.10968141110704838, 0.11074283788384628, 0.040658777722808466, 0.04027374041198081, 0.03950112516714621, 0.03975638536749313, 0.04053331217942484, 0.040581671504444056, 0.03966458734876948]}, {\"line\": {\"color\": \"rgb(188, 189, 34)\"}, \"mode\": \"lines\", \"name\": \"\\u00d1uble\", \"type\": \"scatter\", \"x\": [1, 2, 3, 4, 5, 6, 7], \"y\": [0.07384430560720649, 0.0755554414095976, 0.07547024927420834, 0.07402062544195712, 0.07354960449786024, 0.0749775757595146, 0.07570080780332737]}, {\"fill\": \"toself\", \"fillcolor\": \"rgba(23, 190, 207, 0.2)\", \"line\": {\"color\": \"rgba(255,255,255,0)\"}, \"mode\": \"lines\", \"name\": \"B\\u00edo-B\\u00edo\", \"showlegend\": false, \"type\": \"scatter\", \"x\": [1, 2, 3, 4, 5, 6, 7, 7, 6, 5, 4, 3, 2, 1], \"y\": [0.0858464425024046, 0.08785153156239234, 0.08776171309026165, 0.08605948905012963, 0.08549458182752961, 0.08717405037060229, 0.08799905932467753, 0.03251853890588704, 0.032223426356416396, 0.03158754850900283, 0.03180695960638347, 0.032440200782123674, 0.03247268284649914, 0.03172948893779558]}, {\"line\": {\"color\": \"rgb(23, 190, 207)\"}, \"mode\": \"lines\", \"name\": \"B\\u00edo-B\\u00edo\", \"type\": \"scatter\", \"x\": [1, 2, 3, 4, 5, 6, 7], \"y\": [0.05878796572010009, 0.06016210720444574, 0.06010095693619266, 0.058933224328256546, 0.058541065168266224, 0.05969873836350934, 0.060258799115282285]}, {\"fill\": \"toself\", \"fillcolor\": \"rgba(31, 119, 180, 0.2)\", \"line\": {\"color\": \"rgba(255,255,255,0)\"}, \"mode\": \"lines\", \"name\": \"Lib B O'Higgins\", \"showlegend\": false, \"type\": \"scatter\", \"x\": [1, 2, 3, 4, 5, 6, 7, 7, 6, 5, 4, 3, 2, 1], \"y\": [0.014323095341250489, 0.014702420406365851, 0.01467666036680565, 0.014379087886818456, 0.014285983880966654, 0.014565042584632312, 0.014672237979355567, 0.005503991745817719, 0.005469479006389927, 0.0053569926903754995, 0.0054003831224423236, 0.005514464384810791, 0.005522286599028858, 0.005376032732996619]}, {\"line\": {\"color\": \"rgb(31, 119, 180)\"}, \"mode\": \"lines\", \"name\": \"Lib B O'Higgins\", \"type\": \"scatter\", \"x\": [1, 2, 3, 4, 5, 6, 7], \"y\": [0.009849564037123554, 0.010112353502697355, 0.01009556237580822, 0.00988973550463039, 0.009821488285671077, 0.010017260795511119, 0.010088114862586643]}, {\"fill\": \"toself\", \"fillcolor\": \"rgba(255, 127, 14, 0.2)\", \"line\": {\"color\": \"rgba(255,255,255,0)\"}, \"mode\": \"lines\", \"name\": \"Maule\", \"showlegend\": false, \"type\": \"scatter\", \"x\": [1, 2, 3, 4, 5, 6, 7, 7, 6, 5, 4, 3, 2, 1], \"y\": [0.035072139156289615, 0.03591829473297502, 0.03587759934751162, 0.035174016279149525, 0.034941057113030374, 0.03561929631781798, 0.03594287851271452, 0.013334713012825445, 0.013222749630542088, 0.012960466583115195, 0.013056860563062173, 0.013321037907515777, 0.013334493302731605, 0.013016043719910358]}, {\"line\": {\"color\": \"rgb(255, 127, 14)\"}, \"mode\": \"lines\", \"name\": \"Maule\", \"type\": \"scatter\", \"x\": [1, 2, 3, 4, 5, 6, 7], \"y\": [0.024044091438099987, 0.024626394017853312, 0.0245993186275137, 0.024115438421105848, 0.023950761848072787, 0.024421022974180036, 0.024638795762769984]}],\n",
       "                        {\"height\": 600, \"legend\": {\"orientation\": \"h\", \"title\": {\"text\": \"region\"}, \"x\": -0.1, \"y\": 1.5}, \"template\": {\"data\": {\"bar\": [{\"error_x\": {\"color\": \"#2a3f5f\"}, \"error_y\": {\"color\": \"#2a3f5f\"}, \"marker\": {\"line\": {\"color\": \"white\", \"width\": 0.5}}, \"type\": \"bar\"}], \"barpolar\": [{\"marker\": {\"line\": {\"color\": \"white\", \"width\": 0.5}}, \"type\": \"barpolar\"}], \"carpet\": [{\"aaxis\": {\"endlinecolor\": \"#2a3f5f\", \"gridcolor\": \"#C8D4E3\", \"linecolor\": \"#C8D4E3\", \"minorgridcolor\": \"#C8D4E3\", \"startlinecolor\": \"#2a3f5f\"}, \"baxis\": {\"endlinecolor\": \"#2a3f5f\", \"gridcolor\": \"#C8D4E3\", \"linecolor\": \"#C8D4E3\", \"minorgridcolor\": \"#C8D4E3\", \"startlinecolor\": \"#2a3f5f\"}, \"type\": \"carpet\"}], \"choropleth\": [{\"colorbar\": {\"outlinewidth\": 0, \"ticks\": \"\"}, \"type\": \"choropleth\"}], \"contour\": [{\"colorbar\": {\"outlinewidth\": 0, \"ticks\": \"\"}, \"colorscale\": [[0.0, \"#0d0887\"], [0.1111111111111111, \"#46039f\"], [0.2222222222222222, \"#7201a8\"], [0.3333333333333333, \"#9c179e\"], [0.4444444444444444, \"#bd3786\"], [0.5555555555555556, \"#d8576b\"], [0.6666666666666666, \"#ed7953\"], [0.7777777777777778, \"#fb9f3a\"], [0.8888888888888888, \"#fdca26\"], [1.0, \"#f0f921\"]], \"type\": \"contour\"}], \"contourcarpet\": [{\"colorbar\": {\"outlinewidth\": 0, \"ticks\": \"\"}, \"type\": \"contourcarpet\"}], \"heatmap\": [{\"colorbar\": {\"outlinewidth\": 0, \"ticks\": \"\"}, \"colorscale\": [[0.0, \"#0d0887\"], [0.1111111111111111, \"#46039f\"], [0.2222222222222222, \"#7201a8\"], [0.3333333333333333, \"#9c179e\"], [0.4444444444444444, \"#bd3786\"], [0.5555555555555556, \"#d8576b\"], [0.6666666666666666, \"#ed7953\"], [0.7777777777777778, \"#fb9f3a\"], [0.8888888888888888, \"#fdca26\"], [1.0, \"#f0f921\"]], \"type\": \"heatmap\"}], \"heatmapgl\": [{\"colorbar\": {\"outlinewidth\": 0, \"ticks\": \"\"}, \"colorscale\": [[0.0, \"#0d0887\"], [0.1111111111111111, \"#46039f\"], [0.2222222222222222, \"#7201a8\"], [0.3333333333333333, \"#9c179e\"], [0.4444444444444444, \"#bd3786\"], [0.5555555555555556, \"#d8576b\"], [0.6666666666666666, \"#ed7953\"], [0.7777777777777778, \"#fb9f3a\"], [0.8888888888888888, \"#fdca26\"], [1.0, \"#f0f921\"]], \"type\": \"heatmapgl\"}], \"histogram\": [{\"marker\": {\"colorbar\": {\"outlinewidth\": 0, \"ticks\": \"\"}}, \"type\": \"histogram\"}], \"histogram2d\": [{\"colorbar\": {\"outlinewidth\": 0, \"ticks\": \"\"}, \"colorscale\": [[0.0, \"#0d0887\"], [0.1111111111111111, \"#46039f\"], [0.2222222222222222, \"#7201a8\"], [0.3333333333333333, \"#9c179e\"], [0.4444444444444444, \"#bd3786\"], [0.5555555555555556, \"#d8576b\"], [0.6666666666666666, \"#ed7953\"], [0.7777777777777778, \"#fb9f3a\"], [0.8888888888888888, \"#fdca26\"], [1.0, \"#f0f921\"]], \"type\": \"histogram2d\"}], \"histogram2dcontour\": [{\"colorbar\": {\"outlinewidth\": 0, \"ticks\": \"\"}, \"colorscale\": [[0.0, \"#0d0887\"], [0.1111111111111111, \"#46039f\"], [0.2222222222222222, \"#7201a8\"], [0.3333333333333333, \"#9c179e\"], [0.4444444444444444, \"#bd3786\"], [0.5555555555555556, \"#d8576b\"], [0.6666666666666666, \"#ed7953\"], [0.7777777777777778, \"#fb9f3a\"], [0.8888888888888888, \"#fdca26\"], [1.0, \"#f0f921\"]], \"type\": \"histogram2dcontour\"}], \"mesh3d\": [{\"colorbar\": {\"outlinewidth\": 0, \"ticks\": \"\"}, \"type\": \"mesh3d\"}], \"parcoords\": [{\"line\": {\"colorbar\": {\"outlinewidth\": 0, \"ticks\": \"\"}}, \"type\": \"parcoords\"}], \"pie\": [{\"automargin\": true, \"type\": \"pie\"}], \"scatter\": [{\"marker\": {\"colorbar\": {\"outlinewidth\": 0, \"ticks\": \"\"}}, \"type\": \"scatter\"}], \"scatter3d\": [{\"line\": {\"colorbar\": {\"outlinewidth\": 0, \"ticks\": \"\"}}, \"marker\": {\"colorbar\": {\"outlinewidth\": 0, \"ticks\": \"\"}}, \"type\": \"scatter3d\"}], \"scattercarpet\": [{\"marker\": {\"colorbar\": {\"outlinewidth\": 0, \"ticks\": \"\"}}, \"type\": \"scattercarpet\"}], \"scattergeo\": [{\"marker\": {\"colorbar\": {\"outlinewidth\": 0, \"ticks\": \"\"}}, \"type\": \"scattergeo\"}], \"scattergl\": [{\"marker\": {\"colorbar\": {\"outlinewidth\": 0, \"ticks\": \"\"}}, \"type\": \"scattergl\"}], \"scattermapbox\": [{\"marker\": {\"colorbar\": {\"outlinewidth\": 0, \"ticks\": \"\"}}, \"type\": \"scattermapbox\"}], \"scatterpolar\": [{\"marker\": {\"colorbar\": {\"outlinewidth\": 0, \"ticks\": \"\"}}, \"type\": \"scatterpolar\"}], \"scatterpolargl\": [{\"marker\": {\"colorbar\": {\"outlinewidth\": 0, \"ticks\": \"\"}}, \"type\": \"scatterpolargl\"}], \"scatterternary\": [{\"marker\": {\"colorbar\": {\"outlinewidth\": 0, \"ticks\": \"\"}}, \"type\": \"scatterternary\"}], \"surface\": [{\"colorbar\": {\"outlinewidth\": 0, \"ticks\": \"\"}, \"colorscale\": [[0.0, \"#0d0887\"], [0.1111111111111111, \"#46039f\"], [0.2222222222222222, \"#7201a8\"], [0.3333333333333333, \"#9c179e\"], [0.4444444444444444, \"#bd3786\"], [0.5555555555555556, \"#d8576b\"], [0.6666666666666666, \"#ed7953\"], [0.7777777777777778, \"#fb9f3a\"], [0.8888888888888888, \"#fdca26\"], [1.0, \"#f0f921\"]], \"type\": \"surface\"}], \"table\": [{\"cells\": {\"fill\": {\"color\": \"#EBF0F8\"}, \"line\": {\"color\": \"white\"}}, \"header\": {\"fill\": {\"color\": \"#C8D4E3\"}, \"line\": {\"color\": \"white\"}}, \"type\": \"table\"}]}, \"layout\": {\"annotationdefaults\": {\"arrowcolor\": \"#2a3f5f\", \"arrowhead\": 0, \"arrowwidth\": 1}, \"coloraxis\": {\"colorbar\": {\"outlinewidth\": 0, \"ticks\": \"\"}}, \"colorscale\": {\"diverging\": [[0, \"#8e0152\"], [0.1, \"#c51b7d\"], [0.2, \"#de77ae\"], [0.3, \"#f1b6da\"], [0.4, \"#fde0ef\"], [0.5, \"#f7f7f7\"], [0.6, \"#e6f5d0\"], [0.7, \"#b8e186\"], [0.8, \"#7fbc41\"], [0.9, \"#4d9221\"], [1, \"#276419\"]], \"sequential\": [[0.0, \"#0d0887\"], [0.1111111111111111, \"#46039f\"], [0.2222222222222222, \"#7201a8\"], [0.3333333333333333, \"#9c179e\"], [0.4444444444444444, \"#bd3786\"], [0.5555555555555556, \"#d8576b\"], [0.6666666666666666, \"#ed7953\"], [0.7777777777777778, \"#fb9f3a\"], [0.8888888888888888, \"#fdca26\"], [1.0, \"#f0f921\"]], \"sequentialminus\": [[0.0, \"#0d0887\"], [0.1111111111111111, \"#46039f\"], [0.2222222222222222, \"#7201a8\"], [0.3333333333333333, \"#9c179e\"], [0.4444444444444444, \"#bd3786\"], [0.5555555555555556, \"#d8576b\"], [0.6666666666666666, \"#ed7953\"], [0.7777777777777778, \"#fb9f3a\"], [0.8888888888888888, \"#fdca26\"], [1.0, \"#f0f921\"]]}, \"colorway\": [\"#636efa\", \"#EF553B\", \"#00cc96\", \"#ab63fa\", \"#FFA15A\", \"#19d3f3\", \"#FF6692\", \"#B6E880\", \"#FF97FF\", \"#FECB52\"], \"font\": {\"color\": \"#2a3f5f\"}, \"geo\": {\"bgcolor\": \"white\", \"lakecolor\": \"white\", \"landcolor\": \"white\", \"showlakes\": true, \"showland\": true, \"subunitcolor\": \"#C8D4E3\"}, \"hoverlabel\": {\"align\": \"left\"}, \"hovermode\": \"closest\", \"mapbox\": {\"style\": \"light\"}, \"paper_bgcolor\": \"white\", \"plot_bgcolor\": \"white\", \"polar\": {\"angularaxis\": {\"gridcolor\": \"#EBF0F8\", \"linecolor\": \"#EBF0F8\", \"ticks\": \"\"}, \"bgcolor\": \"white\", \"radialaxis\": {\"gridcolor\": \"#EBF0F8\", \"linecolor\": \"#EBF0F8\", \"ticks\": \"\"}}, \"scene\": {\"xaxis\": {\"backgroundcolor\": \"white\", \"gridcolor\": \"#DFE8F3\", \"gridwidth\": 2, \"linecolor\": \"#EBF0F8\", \"showbackground\": true, \"ticks\": \"\", \"zerolinecolor\": \"#EBF0F8\"}, \"yaxis\": {\"backgroundcolor\": \"white\", \"gridcolor\": \"#DFE8F3\", \"gridwidth\": 2, \"linecolor\": \"#EBF0F8\", \"showbackground\": true, \"ticks\": \"\", \"zerolinecolor\": \"#EBF0F8\"}, \"zaxis\": {\"backgroundcolor\": \"white\", \"gridcolor\": \"#DFE8F3\", \"gridwidth\": 2, \"linecolor\": \"#EBF0F8\", \"showbackground\": true, \"ticks\": \"\", \"zerolinecolor\": \"#EBF0F8\"}}, \"shapedefaults\": {\"line\": {\"color\": \"#2a3f5f\"}}, \"ternary\": {\"aaxis\": {\"gridcolor\": \"#DFE8F3\", \"linecolor\": \"#A2B1C6\", \"ticks\": \"\"}, \"baxis\": {\"gridcolor\": \"#DFE8F3\", \"linecolor\": \"#A2B1C6\", \"ticks\": \"\"}, \"bgcolor\": \"white\", \"caxis\": {\"gridcolor\": \"#DFE8F3\", \"linecolor\": \"#A2B1C6\", \"ticks\": \"\"}}, \"title\": {\"x\": 0.05}, \"xaxis\": {\"automargin\": true, \"gridcolor\": \"#EBF0F8\", \"linecolor\": \"#EBF0F8\", \"ticks\": \"\", \"title\": {\"standoff\": 15}, \"zerolinecolor\": \"#EBF0F8\", \"zerolinewidth\": 2}, \"yaxis\": {\"automargin\": true, \"gridcolor\": \"#EBF0F8\", \"linecolor\": \"#EBF0F8\", \"ticks\": \"\", \"title\": {\"standoff\": 15}, \"zerolinecolor\": \"#EBF0F8\", \"zerolinewidth\": 2}}}, \"width\": 1000, \"xaxis\": {\"tickmode\": \"array\", \"ticktext\": [\"Lunes\", \"Martes\", \"Mi\\u00e9rcoles\", \"Jueves\", \"Viernes\", \"S\\u00e1bado\", \"Domingo\"], \"tickvals\": [1, 2, 3, 4, 5, 6, 7]}, \"yaxis\": {\"title\": {\"text\": \"$\\\\text{emisi\\u00f3n promedio de pm25} \\\\mu g/m^3$\"}}},\n",
       "                        {\"responsive\": true}\n",
       "                    ).then(function(){\n",
       "                            \n",
       "var gd = document.getElementById('fbc5d553-bc85-4ab7-9485-9f9c4fb7a824');\n",
       "var x = new MutationObserver(function (mutations, observer) {{\n",
       "        var display = window.getComputedStyle(gd).display;\n",
       "        if (!display || display === 'none') {{\n",
       "            console.log([gd, 'removed!']);\n",
       "            Plotly.purge(gd);\n",
       "            observer.disconnect();\n",
       "        }}\n",
       "}});\n",
       "\n",
       "// Listen for the removal of the full notebook cells\n",
       "var notebookContainer = gd.closest('#notebook-container');\n",
       "if (notebookContainer) {{\n",
       "    x.observe(notebookContainer, {childList: true});\n",
       "}}\n",
       "\n",
       "// Listen for the clearing of the current output cell\n",
       "var outputEl = gd.closest('.output');\n",
       "if (outputEl) {{\n",
       "    x.observe(outputEl, {childList: true});\n",
       "}}\n",
       "\n",
       "                        })\n",
       "                };\n",
       "                });\n",
       "            </script>\n",
       "        </div>"
      ]
     },
     "metadata": {},
     "output_type": "display_data"
    }
   ],
   "source": [
    "resolucion = 'Todas las regiones'\n",
    "leyenda_h = True\n",
    "plot_weekly_curves(df, resolucion=resolucion, tipo='emision', leyenda_h=leyenda_h)"
   ]
  },
  {
   "cell_type": "code",
   "execution_count": null,
   "metadata": {},
   "outputs": [],
   "source": []
  }
 ],
 "metadata": {
  "kernelspec": {
   "display_name": "Python [conda env:spike_basico_CR2] *",
   "language": "python",
   "name": "conda-env-spike_basico_CR2-py"
  },
  "language_info": {
   "codemirror_mode": {
    "name": "ipython",
    "version": 3
   },
   "file_extension": ".py",
   "mimetype": "text/x-python",
   "name": "python",
   "nbconvert_exporter": "python",
   "pygments_lexer": "ipython3",
   "version": "3.6.7"
  }
 },
 "nbformat": 4,
 "nbformat_minor": 4
}
