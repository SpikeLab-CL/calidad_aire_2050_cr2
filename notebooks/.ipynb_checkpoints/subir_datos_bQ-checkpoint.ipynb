{
 "cells": [
  {
   "cell_type": "markdown",
   "metadata": {},
   "source": [
    "# Subir datos a bQ\n",
    "#### En este notebook leemos los archivos en netcdf5 (.nc) y los pasamos a pandas para poder subir a bigQueury"
   ]
  },
  {
   "cell_type": "code",
   "execution_count": 5,
   "metadata": {},
   "outputs": [],
   "source": [
    "import numpy as np\n",
    "import pandas as pd\n",
    "import pandas_gbq\n",
    "import rioxarray\n",
    "import xarray\n",
    "\n",
    "import os\n",
    "\n",
    "pid = 'spike-sandbox'"
   ]
  },
  {
   "cell_type": "markdown",
   "metadata": {},
   "source": [
    "# Emisiones"
   ]
  },
  {
   "cell_type": "code",
   "execution_count": 3,
   "metadata": {},
   "outputs": [],
   "source": [
    "path_base = '/Users/pipe/Documents/Spike/CR2/datos/nuevos_datos/EMI-PM25_TICOallYrAVE.ref-BCv2.02KM_MayAug9999.nc'\n",
    "filename = f'{path_base}'\n",
    "xds = xarray.open_dataset(filename)\n",
    "xds.rio.set_crs(\"epsg:4326\");\n",
    "\n",
    "emisiones = xds.to_dataframe()\n",
    "\n",
    "\n",
    "emisiones.dropna(how='any',inplace=True)\n",
    "emisiones.reset_index(inplace=True)"
   ]
  },
  {
   "cell_type": "code",
   "execution_count": 5,
   "metadata": {},
   "outputs": [
    {
     "data": {
      "text/html": [
       "<div>\n",
       "<style scoped>\n",
       "    .dataframe tbody tr th:only-of-type {\n",
       "        vertical-align: middle;\n",
       "    }\n",
       "\n",
       "    .dataframe tbody tr th {\n",
       "        vertical-align: top;\n",
       "    }\n",
       "\n",
       "    .dataframe thead th {\n",
       "        text-align: right;\n",
       "    }\n",
       "</style>\n",
       "<table border=\"1\" class=\"dataframe\">\n",
       "  <thead>\n",
       "    <tr style=\"text-align: right;\">\n",
       "      <th></th>\n",
       "      <th>Time</th>\n",
       "      <th>lat</th>\n",
       "      <th>lon</th>\n",
       "      <th>EMI_PM25</th>\n",
       "    </tr>\n",
       "  </thead>\n",
       "  <tbody>\n",
       "    <tr>\n",
       "      <th>0</th>\n",
       "      <td>2015-05-01</td>\n",
       "      <td>-50.12</td>\n",
       "      <td>-72.04</td>\n",
       "      <td>0.0</td>\n",
       "    </tr>\n",
       "    <tr>\n",
       "      <th>1</th>\n",
       "      <td>2015-05-01</td>\n",
       "      <td>-50.12</td>\n",
       "      <td>-72.02</td>\n",
       "      <td>0.0</td>\n",
       "    </tr>\n",
       "    <tr>\n",
       "      <th>2</th>\n",
       "      <td>2015-05-01</td>\n",
       "      <td>-50.12</td>\n",
       "      <td>-72.00</td>\n",
       "      <td>0.0</td>\n",
       "    </tr>\n",
       "    <tr>\n",
       "      <th>3</th>\n",
       "      <td>2015-05-01</td>\n",
       "      <td>-50.12</td>\n",
       "      <td>-71.98</td>\n",
       "      <td>0.0</td>\n",
       "    </tr>\n",
       "    <tr>\n",
       "      <th>4</th>\n",
       "      <td>2015-05-01</td>\n",
       "      <td>-50.12</td>\n",
       "      <td>-71.96</td>\n",
       "      <td>0.0</td>\n",
       "    </tr>\n",
       "  </tbody>\n",
       "</table>\n",
       "</div>"
      ],
      "text/plain": [
       "        Time    lat    lon  EMI_PM25\n",
       "0 2015-05-01 -50.12 -72.04       0.0\n",
       "1 2015-05-01 -50.12 -72.02       0.0\n",
       "2 2015-05-01 -50.12 -72.00       0.0\n",
       "3 2015-05-01 -50.12 -71.98       0.0\n",
       "4 2015-05-01 -50.12 -71.96       0.0"
      ]
     },
     "execution_count": 5,
     "metadata": {},
     "output_type": "execute_result"
    }
   ],
   "source": [
    "emisiones.head()"
   ]
  },
  {
   "cell_type": "code",
   "execution_count": 6,
   "metadata": {},
   "outputs": [
    {
     "data": {
      "text/plain": [
       "(869006976, 4)"
      ]
     },
     "execution_count": 6,
     "metadata": {},
     "output_type": "execute_result"
    }
   ],
   "source": [
    "emisiones.shape"
   ]
  },
  {
   "cell_type": "code",
   "execution_count": 8,
   "metadata": {},
   "outputs": [
    {
     "name": "stderr",
     "output_type": "stream",
     "text": [
      "100%|██████████| 10/10 [00:00<00:00, 5071.10it/s]"
     ]
    },
    {
     "name": "stdout",
     "output_type": "stream",
     "text": [
      "[0, 86900698]\n",
      "[86900698, 173801396]\n",
      "[173801396, 260702094]\n",
      "[260702094, 347602792]\n",
      "[347602792, 434503490]\n",
      "[434503490, 521404188]\n",
      "[521404188, 608304886]\n",
      "[608304886, 695205584]\n",
      "[695205584, 782106282]\n",
      "[782106282, 869006980]\n"
     ]
    },
    {
     "name": "stderr",
     "output_type": "stream",
     "text": [
      "\n"
     ]
    }
   ],
   "source": [
    "num_rows = 869006976\n",
    "pedacitos = 10\n",
    "num_rows_pedacitos = int(num_rows/pedacitos) + 1\n",
    "\n",
    "for k in tqdm(range(pedacitos)):\n",
    "    print([k*num_rows_pedacitos , (k+1)*num_rows_pedacitos])"
   ]
  },
  {
   "cell_type": "code",
   "execution_count": 11,
   "metadata": {},
   "outputs": [
    {
     "name": "stderr",
     "output_type": "stream",
     "text": [
      "1it [1:16:13, 4573.14s/it]\n"
     ]
    }
   ],
   "source": [
    "pandas_gbq.to_gbq(emisiones[0 : 86900698], \n",
    "                      'CR2.emisiones_PM25', \n",
    "                      project_id=pid, \n",
    "                      if_exists='append')"
   ]
  },
  {
   "cell_type": "code",
   "execution_count": 12,
   "metadata": {},
   "outputs": [
    {
     "name": "stderr",
     "output_type": "stream",
     "text": [
      "1it [1:08:56, 4137.00s/it]\n"
     ]
    }
   ],
   "source": [
    "pandas_gbq.to_gbq(emisiones[86900698: 173801396], \n",
    "                      'CR2.emisiones_PM25', \n",
    "                      project_id=pid, \n",
    "                      if_exists='append')"
   ]
  },
  {
   "cell_type": "code",
   "execution_count": 13,
   "metadata": {},
   "outputs": [
    {
     "name": "stderr",
     "output_type": "stream",
     "text": [
      "1it [1:34:12, 5652.28s/it]\n"
     ]
    }
   ],
   "source": [
    "pandas_gbq.to_gbq(emisiones[173801396: 260702094], \n",
    "                      'CR2.emisiones_PM25', \n",
    "                      project_id=pid, \n",
    "                      if_exists='append')"
   ]
  },
  {
   "cell_type": "code",
   "execution_count": 14,
   "metadata": {},
   "outputs": [
    {
     "name": "stderr",
     "output_type": "stream",
     "text": [
      "1it [1:15:35, 4535.69s/it]\n"
     ]
    }
   ],
   "source": [
    "pandas_gbq.to_gbq(emisiones[260702094: 347602792], \n",
    "                      'CR2.emisiones_PM25', \n",
    "                      project_id=pid, \n",
    "                      if_exists='append')"
   ]
  },
  {
   "cell_type": "code",
   "execution_count": 15,
   "metadata": {},
   "outputs": [
    {
     "name": "stderr",
     "output_type": "stream",
     "text": [
      "1it [1:15:11, 4511.48s/it]\n"
     ]
    }
   ],
   "source": [
    "pandas_gbq.to_gbq(emisiones[347602792 : 434503490], \n",
    "                      'CR2.emisiones_PM25', \n",
    "                      project_id=pid, \n",
    "                      if_exists='append')"
   ]
  },
  {
   "cell_type": "code",
   "execution_count": 16,
   "metadata": {},
   "outputs": [
    {
     "name": "stderr",
     "output_type": "stream",
     "text": [
      "1it [1:14:01, 4441.38s/it]\n"
     ]
    }
   ],
   "source": [
    "pandas_gbq.to_gbq(emisiones[434503490 : 521404188], \n",
    "                      'CR2.emisiones_PM25', \n",
    "                      project_id=pid, \n",
    "                      if_exists='append')"
   ]
  },
  {
   "cell_type": "code",
   "execution_count": 21,
   "metadata": {},
   "outputs": [
    {
     "name": "stderr",
     "output_type": "stream",
     "text": [
      "87it [1:54:09, 78.74s/it]\n"
     ]
    }
   ],
   "source": [
    "pandas_gbq.to_gbq(emisiones[521404188: 608304886], \n",
    "                      'CR2.emisiones_PM25', \n",
    "                      project_id=pid, \n",
    "                      if_exists='append',\n",
    "                       chunksize = int(1e6))"
   ]
  },
  {
   "cell_type": "code",
   "execution_count": 18,
   "metadata": {},
   "outputs": [
    {
     "name": "stderr",
     "output_type": "stream",
     "text": [
      "87it [1:27:30, 60.35s/it]\n"
     ]
    }
   ],
   "source": [
    "pandas_gbq.to_gbq(emisiones[608304886: 695205584], \n",
    "                      'CR2.emisiones_PM25', \n",
    "                      project_id=pid, \n",
    "                      if_exists='append',\n",
    "                     chunksize = int(1e6))"
   ]
  },
  {
   "cell_type": "code",
   "execution_count": 19,
   "metadata": {},
   "outputs": [
    {
     "name": "stderr",
     "output_type": "stream",
     "text": [
      "87it [1:28:39, 61.14s/it]\n"
     ]
    }
   ],
   "source": [
    "pandas_gbq.to_gbq(emisiones[695205584: 782106282], \n",
    "                      'CR2.emisiones_PM25', \n",
    "                      project_id=pid, \n",
    "                      if_exists='append',\n",
    "                     chunksize = int(1e6))"
   ]
  },
  {
   "cell_type": "code",
   "execution_count": 20,
   "metadata": {},
   "outputs": [
    {
     "name": "stderr",
     "output_type": "stream",
     "text": [
      "87it [1:27:43, 60.50s/it]\n"
     ]
    }
   ],
   "source": [
    "pandas_gbq.to_gbq(emisiones[782106282: ], \n",
    "                      'CR2.emisiones_PM25', \n",
    "                      project_id=pid, \n",
    "                      if_exists='append',\n",
    "                      chunksize = int(1e6))"
   ]
  },
  {
   "cell_type": "markdown",
   "metadata": {},
   "source": [
    "## Concentraciones"
   ]
  },
  {
   "cell_type": "code",
   "execution_count": 4,
   "metadata": {},
   "outputs": [
    {
     "data": {
      "text/html": [
       "<div>\n",
       "<style scoped>\n",
       "    .dataframe tbody tr th:only-of-type {\n",
       "        vertical-align: middle;\n",
       "    }\n",
       "\n",
       "    .dataframe tbody tr th {\n",
       "        vertical-align: top;\n",
       "    }\n",
       "\n",
       "    .dataframe thead th {\n",
       "        text-align: right;\n",
       "    }\n",
       "</style>\n",
       "<table border=\"1\" class=\"dataframe\">\n",
       "  <thead>\n",
       "    <tr style=\"text-align: right;\">\n",
       "      <th></th>\n",
       "      <th></th>\n",
       "      <th></th>\n",
       "      <th>PM25</th>\n",
       "    </tr>\n",
       "    <tr>\n",
       "      <th>Time</th>\n",
       "      <th>lat</th>\n",
       "      <th>lon</th>\n",
       "      <th></th>\n",
       "    </tr>\n",
       "  </thead>\n",
       "  <tbody>\n",
       "    <tr>\n",
       "      <th rowspan=\"2\" valign=\"top\">2015-05-01</th>\n",
       "      <th rowspan=\"2\" valign=\"top\">-56.0</th>\n",
       "      <th>-76.00</th>\n",
       "      <td>NaN</td>\n",
       "    </tr>\n",
       "    <tr>\n",
       "      <th>-75.98</th>\n",
       "      <td>NaN</td>\n",
       "    </tr>\n",
       "  </tbody>\n",
       "</table>\n",
       "</div>"
      ],
      "text/plain": [
       "                         PM25\n",
       "Time       lat   lon         \n",
       "2015-05-01 -56.0 -76.00   NaN\n",
       "                 -75.98   NaN"
      ]
     },
     "execution_count": 4,
     "metadata": {},
     "output_type": "execute_result"
    }
   ],
   "source": [
    "path_base = '/Users/pipe/Documents/Spike/CR2/datos/nuevos_datos/PM25_TICOallYrAVE.ref-BCv2.02KM_MayAug9999.nc'\n",
    "filename = f'{path_base}'\n",
    "xds = xarray.open_dataset(filename)\n",
    "xds.rio.set_crs(\"epsg:4326\");\n",
    "\n",
    "concentraciones = xds.to_dataframe()\n",
    "concentraciones.head(2)"
   ]
  },
  {
   "cell_type": "code",
   "execution_count": 5,
   "metadata": {},
   "outputs": [],
   "source": [
    "concentraciones.dropna(how='any',inplace=True)\n",
    "concentraciones.reset_index(inplace=True)"
   ]
  },
  {
   "cell_type": "code",
   "execution_count": 6,
   "metadata": {},
   "outputs": [
    {
     "name": "stdout",
     "output_type": "stream",
     "text": [
      "tenemos 876129984 filas\n"
     ]
    }
   ],
   "source": [
    "print(f'tenemos {concentraciones.shape[0]} filas')"
   ]
  },
  {
   "cell_type": "code",
   "execution_count": 7,
   "metadata": {},
   "outputs": [
    {
     "data": {
      "text/html": [
       "<div>\n",
       "<style scoped>\n",
       "    .dataframe tbody tr th:only-of-type {\n",
       "        vertical-align: middle;\n",
       "    }\n",
       "\n",
       "    .dataframe tbody tr th {\n",
       "        vertical-align: top;\n",
       "    }\n",
       "\n",
       "    .dataframe thead th {\n",
       "        text-align: right;\n",
       "    }\n",
       "</style>\n",
       "<table border=\"1\" class=\"dataframe\">\n",
       "  <thead>\n",
       "    <tr style=\"text-align: right;\">\n",
       "      <th></th>\n",
       "      <th>Time</th>\n",
       "      <th>lat</th>\n",
       "      <th>lon</th>\n",
       "      <th>PM25</th>\n",
       "    </tr>\n",
       "  </thead>\n",
       "  <tbody>\n",
       "    <tr>\n",
       "      <th>0</th>\n",
       "      <td>2015-05-01</td>\n",
       "      <td>-50.12</td>\n",
       "      <td>-72.04</td>\n",
       "      <td>3.718854</td>\n",
       "    </tr>\n",
       "    <tr>\n",
       "      <th>1</th>\n",
       "      <td>2015-05-01</td>\n",
       "      <td>-50.12</td>\n",
       "      <td>-72.02</td>\n",
       "      <td>3.735479</td>\n",
       "    </tr>\n",
       "    <tr>\n",
       "      <th>2</th>\n",
       "      <td>2015-05-01</td>\n",
       "      <td>-50.12</td>\n",
       "      <td>-72.00</td>\n",
       "      <td>3.752126</td>\n",
       "    </tr>\n",
       "    <tr>\n",
       "      <th>3</th>\n",
       "      <td>2015-05-01</td>\n",
       "      <td>-50.12</td>\n",
       "      <td>-71.98</td>\n",
       "      <td>3.763779</td>\n",
       "    </tr>\n",
       "    <tr>\n",
       "      <th>4</th>\n",
       "      <td>2015-05-01</td>\n",
       "      <td>-50.12</td>\n",
       "      <td>-71.96</td>\n",
       "      <td>3.775011</td>\n",
       "    </tr>\n",
       "  </tbody>\n",
       "</table>\n",
       "</div>"
      ],
      "text/plain": [
       "        Time    lat    lon      PM25\n",
       "0 2015-05-01 -50.12 -72.04  3.718854\n",
       "1 2015-05-01 -50.12 -72.02  3.735479\n",
       "2 2015-05-01 -50.12 -72.00  3.752126\n",
       "3 2015-05-01 -50.12 -71.98  3.763779\n",
       "4 2015-05-01 -50.12 -71.96  3.775011"
      ]
     },
     "execution_count": 7,
     "metadata": {},
     "output_type": "execute_result"
    }
   ],
   "source": [
    "concentraciones.head()"
   ]
  },
  {
   "cell_type": "code",
   "execution_count": 8,
   "metadata": {},
   "outputs": [
    {
     "name": "stderr",
     "output_type": "stream",
     "text": [
      "87it [1:44:25, 72.02s/it]\n"
     ]
    }
   ],
   "source": [
    "pandas_gbq.to_gbq(concentraciones[0 : 86900698], \n",
    "                      'CR2.concentraciones_PM25', \n",
    "                      project_id=pid, \n",
    "                      if_exists='append',\n",
    "                   chunksize = int(1e6))"
   ]
  },
  {
   "cell_type": "code",
   "execution_count": 9,
   "metadata": {},
   "outputs": [
    {
     "name": "stderr",
     "output_type": "stream",
     "text": [
      "87it [1:45:02, 72.44s/it]\n"
     ]
    }
   ],
   "source": [
    "pandas_gbq.to_gbq(concentraciones[86900698: 173801396], \n",
    "                      'CR2.concentraciones_PM25', \n",
    "                      project_id=pid, \n",
    "                      if_exists='append',\n",
    "                   chunksize = int(1e6))"
   ]
  },
  {
   "cell_type": "code",
   "execution_count": 10,
   "metadata": {},
   "outputs": [
    {
     "name": "stderr",
     "output_type": "stream",
     "text": [
      "87it [1:38:55, 68.23s/it]\n"
     ]
    }
   ],
   "source": [
    "pandas_gbq.to_gbq(concentraciones[173801396: 260702094], \n",
    "                      'CR2.concentraciones_PM25', \n",
    "                      project_id=pid, \n",
    "                      if_exists='append',\n",
    "                   chunksize = int(1e6))"
   ]
  },
  {
   "cell_type": "code",
   "execution_count": 11,
   "metadata": {},
   "outputs": [
    {
     "name": "stderr",
     "output_type": "stream",
     "text": [
      "87it [1:42:15, 70.52s/it]\n"
     ]
    }
   ],
   "source": [
    "pandas_gbq.to_gbq(concentraciones[260702094: 347602792], \n",
    "                      'CR2.concentraciones_PM25', \n",
    "                      project_id=pid, \n",
    "                      if_exists='append',\n",
    "                   chunksize = int(1e6))"
   ]
  },
  {
   "cell_type": "code",
   "execution_count": 12,
   "metadata": {},
   "outputs": [
    {
     "name": "stderr",
     "output_type": "stream",
     "text": [
      "87it [1:38:53, 68.21s/it]\n"
     ]
    }
   ],
   "source": [
    "pandas_gbq.to_gbq(concentraciones[347602792 : 434503490], \n",
    "                      'CR2.concentraciones_PM25', \n",
    "                      project_id=pid, \n",
    "                      if_exists='append',\n",
    "                   chunksize = int(1e6))"
   ]
  },
  {
   "cell_type": "code",
   "execution_count": 13,
   "metadata": {},
   "outputs": [
    {
     "name": "stderr",
     "output_type": "stream",
     "text": [
      "1it [1:13:25, 4405.08s/it]\n"
     ]
    }
   ],
   "source": [
    "pandas_gbq.to_gbq(concentraciones[434503490 : 521404188], \n",
    "                      'CR2.concentraciones_PM25', \n",
    "                      project_id=pid, \n",
    "                      if_exists='append')"
   ]
  },
  {
   "cell_type": "code",
   "execution_count": 14,
   "metadata": {},
   "outputs": [
    {
     "name": "stderr",
     "output_type": "stream",
     "text": [
      "87it [1:49:23, 75.45s/it]\n"
     ]
    }
   ],
   "source": [
    "pandas_gbq.to_gbq(concentraciones[521404188: 608304886], \n",
    "                      'CR2.concentraciones_PM25', \n",
    "                      project_id=pid, \n",
    "                      if_exists='append',\n",
    "                       chunksize = int(1e6))"
   ]
  },
  {
   "cell_type": "code",
   "execution_count": 15,
   "metadata": {},
   "outputs": [
    {
     "name": "stderr",
     "output_type": "stream",
     "text": [
      "87it [1:40:49, 69.54s/it]\n"
     ]
    }
   ],
   "source": [
    "pandas_gbq.to_gbq(concentraciones[608304886: 695205584], \n",
    "                      'CR2.concentraciones_PM25', \n",
    "                      project_id=pid, \n",
    "                      if_exists='append',\n",
    "                     chunksize = int(1e6))"
   ]
  },
  {
   "cell_type": "code",
   "execution_count": 17,
   "metadata": {},
   "outputs": [
    {
     "name": "stderr",
     "output_type": "stream",
     "text": [
      "87it [1:37:44, 67.41s/it]\n"
     ]
    }
   ],
   "source": [
    "pandas_gbq.to_gbq(concentraciones[695205584: 782106282], \n",
    "                      'CR2.concentraciones_PM25', \n",
    "                      project_id=pid, \n",
    "                      if_exists='append',\n",
    "                     chunksize = int(1e6))"
   ]
  },
  {
   "cell_type": "code",
   "execution_count": 18,
   "metadata": {},
   "outputs": [
    {
     "name": "stderr",
     "output_type": "stream",
     "text": [
      "95it [1:46:53, 67.51s/it]\n"
     ]
    }
   ],
   "source": [
    "pandas_gbq.to_gbq(concentraciones[782106282: ], \n",
    "                      'CR2.concentraciones_PM25', \n",
    "                      project_id=pid, \n",
    "                      if_exists='append',\n",
    "                      chunksize = int(1e6))"
   ]
  },
  {
   "cell_type": "code",
   "execution_count": null,
   "metadata": {},
   "outputs": [],
   "source": []
  },
  {
   "cell_type": "code",
   "execution_count": null,
   "metadata": {},
   "outputs": [],
   "source": []
  },
  {
   "cell_type": "markdown",
   "metadata": {},
   "source": [
    "# Concentraciones: otros escenarios"
   ]
  },
  {
   "cell_type": "code",
   "execution_count": 4,
   "metadata": {},
   "outputs": [
    {
     "name": "stdout",
     "output_type": "stream",
     "text": [
      "EMI-PM25_TICOallYrAVE.ref-BCv2.02KM_MayAug9999.nc\n",
      "PM25_TICOallYrAVE.comb-BCv2.02KM_MayAug9999.nc\n",
      "PM25_TICOallYrAVE.comuna-BCv2.02KM_MayAug9999.nc\n",
      "PM25_TICOallYrAVE.reb-BCv2.02KM_MayAug9999.nc\n",
      "PM25_TICOallYrAVE.ref-BCv2.02KM_MayAug9999.nc\n"
     ]
    }
   ],
   "source": [
    "! ls /Users/pipe/Documents/Spike/CR2/datos/nuevos_datos/"
   ]
  },
  {
   "cell_type": "code",
   "execution_count": 4,
   "metadata": {},
   "outputs": [
    {
     "ename": "NameError",
     "evalue": "name 'xarray' is not defined",
     "output_type": "error",
     "traceback": [
      "\u001b[0;31m---------------------------------------------------------------------------\u001b[0m",
      "\u001b[0;31mNameError\u001b[0m                                 Traceback (most recent call last)",
      "\u001b[0;32m<ipython-input-4-83994e16f001>\u001b[0m in \u001b[0;36m<module>\u001b[0;34m\u001b[0m\n\u001b[1;32m      1\u001b[0m \u001b[0mpath_base\u001b[0m \u001b[0;34m=\u001b[0m \u001b[0;34m'/Users/pipe/Documents/Spike/CR2/datos/nuevos_datos/PM25_TICOallYrAVE.comb-BCv2.02KM_MayAug9999.nc'\u001b[0m\u001b[0;34m\u001b[0m\u001b[0;34m\u001b[0m\u001b[0m\n\u001b[1;32m      2\u001b[0m \u001b[0mfilename\u001b[0m \u001b[0;34m=\u001b[0m \u001b[0;34mf'{path_base}'\u001b[0m\u001b[0;34m\u001b[0m\u001b[0;34m\u001b[0m\u001b[0m\n\u001b[0;32m----> 3\u001b[0;31m \u001b[0mxds\u001b[0m \u001b[0;34m=\u001b[0m \u001b[0mxarray\u001b[0m\u001b[0;34m.\u001b[0m\u001b[0mopen_dataset\u001b[0m\u001b[0;34m(\u001b[0m\u001b[0mfilename\u001b[0m\u001b[0;34m)\u001b[0m\u001b[0;34m\u001b[0m\u001b[0;34m\u001b[0m\u001b[0m\n\u001b[0m\u001b[1;32m      4\u001b[0m \u001b[0mxds\u001b[0m\u001b[0;34m.\u001b[0m\u001b[0mrio\u001b[0m\u001b[0;34m.\u001b[0m\u001b[0mset_crs\u001b[0m\u001b[0;34m(\u001b[0m\u001b[0;34m\"epsg:4326\"\u001b[0m\u001b[0;34m)\u001b[0m\u001b[0;34m;\u001b[0m\u001b[0;34m\u001b[0m\u001b[0;34m\u001b[0m\u001b[0m\n\u001b[1;32m      5\u001b[0m \u001b[0;34m\u001b[0m\u001b[0m\n",
      "\u001b[0;31mNameError\u001b[0m: name 'xarray' is not defined"
     ]
    }
   ],
   "source": [
    "path_base = '/Users/pipe/Documents/Spike/CR2/datos/nuevos_datos/PM25_TICOallYrAVE.comb-BCv2.02KM_MayAug9999.nc'\n",
    "filename = f'{path_base}'\n",
    "xds = xarray.open_dataset(filename)\n",
    "xds.rio.set_crs(\"epsg:4326\");\n",
    "\n",
    "concentraciones = xds.to_dataframe()"
   ]
  },
  {
   "cell_type": "code",
   "execution_count": 1,
   "metadata": {},
   "outputs": [
    {
     "ename": "NameError",
     "evalue": "name 'concentraciones' is not defined",
     "output_type": "error",
     "traceback": [
      "\u001b[0;31m---------------------------------------------------------------------------\u001b[0m",
      "\u001b[0;31mNameError\u001b[0m                                 Traceback (most recent call last)",
      "\u001b[0;32m<ipython-input-1-fcac2659ac96>\u001b[0m in \u001b[0;36m<module>\u001b[0;34m\u001b[0m\n\u001b[0;32m----> 1\u001b[0;31m \u001b[0mconcentraciones\u001b[0m\u001b[0;34m.\u001b[0m\u001b[0mdropna\u001b[0m\u001b[0;34m(\u001b[0m\u001b[0mhow\u001b[0m\u001b[0;34m=\u001b[0m\u001b[0;34m'any'\u001b[0m\u001b[0;34m,\u001b[0m \u001b[0minplace\u001b[0m\u001b[0;34m=\u001b[0m\u001b[0;32mTrue\u001b[0m\u001b[0;34m)\u001b[0m\u001b[0;34m\u001b[0m\u001b[0;34m\u001b[0m\u001b[0m\n\u001b[0m\u001b[1;32m      2\u001b[0m \u001b[0mconcentraciones\u001b[0m\u001b[0;34m.\u001b[0m\u001b[0mreset_index\u001b[0m\u001b[0;34m(\u001b[0m\u001b[0minplace\u001b[0m\u001b[0;34m=\u001b[0m\u001b[0;32mTrue\u001b[0m\u001b[0;34m)\u001b[0m\u001b[0;34m\u001b[0m\u001b[0;34m\u001b[0m\u001b[0m\n\u001b[1;32m      3\u001b[0m \u001b[0;34m\u001b[0m\u001b[0m\n\u001b[1;32m      4\u001b[0m \u001b[0mprint\u001b[0m\u001b[0;34m(\u001b[0m\u001b[0;34mf'tenemos {concentraciones.shape[0]} filas'\u001b[0m\u001b[0;34m)\u001b[0m\u001b[0;34m\u001b[0m\u001b[0;34m\u001b[0m\u001b[0m\n\u001b[1;32m      5\u001b[0m \u001b[0mconcentraciones\u001b[0m\u001b[0;34m.\u001b[0m\u001b[0mhead\u001b[0m\u001b[0;34m(\u001b[0m\u001b[0;36m2\u001b[0m\u001b[0;34m)\u001b[0m\u001b[0;34m\u001b[0m\u001b[0;34m\u001b[0m\u001b[0m\n",
      "\u001b[0;31mNameError\u001b[0m: name 'concentraciones' is not defined"
     ]
    }
   ],
   "source": [
    "concentraciones.dropna(how='any', inplace=True)\n",
    "concentraciones.reset_index(inplace=True)\n",
    "\n",
    "print(f'tenemos {concentraciones.shape[0]} filas')\n",
    "concentraciones.head(2)"
   ]
  },
  {
   "cell_type": "code",
   "execution_count": 3,
   "metadata": {},
   "outputs": [],
   "source": [
    "escenario = 'comb'\n",
    "nombre_tabla = f'CR2.concentraciones_PM25_{escenario}'\n",
    "\n",
    "def upload_to_bq(df, idx1, idx2, nombre_tabla):\n",
    "    pandas_gbq.to_gbq(df[idx1 : idx2], \n",
    "                      nombre_tabla, \n",
    "                      project_id=pid, \n",
    "                      if_exists='append',\n",
    "                   chunksize = int(1e6))"
   ]
  },
  {
   "cell_type": "code",
   "execution_count": 8,
   "metadata": {},
   "outputs": [
    {
     "name": "stderr",
     "output_type": "stream",
     "text": [
      "87it [1:44:25, 72.02s/it]\n"
     ]
    }
   ],
   "source": [
    "pandas_gbq.to_gbq(concentraciones[0 : 86900698], \n",
    "                      nombre_tabla, \n",
    "                      project_id=pid, \n",
    "                      if_exists='append',\n",
    "                   chunksize = int(1e6))"
   ]
  },
  {
   "cell_type": "code",
   "execution_count": 9,
   "metadata": {},
   "outputs": [
    {
     "name": "stderr",
     "output_type": "stream",
     "text": [
      "87it [1:45:02, 72.44s/it]\n"
     ]
    }
   ],
   "source": [
    "pandas_gbq.to_gbq(concentraciones[86900698: 173801396], \n",
    "                      nombre_tabla, \n",
    "                      project_id=pid, \n",
    "                      if_exists='append',\n",
    "                   chunksize = int(1e6))"
   ]
  },
  {
   "cell_type": "code",
   "execution_count": 10,
   "metadata": {},
   "outputs": [
    {
     "name": "stderr",
     "output_type": "stream",
     "text": [
      "87it [1:38:55, 68.23s/it]\n"
     ]
    }
   ],
   "source": [
    "pandas_gbq.to_gbq(concentraciones[173801396: 260702094], \n",
    "                      nombre_tabla, \n",
    "                      project_id=pid, \n",
    "                      if_exists='append',\n",
    "                   chunksize = int(1e6))"
   ]
  },
  {
   "cell_type": "code",
   "execution_count": 11,
   "metadata": {},
   "outputs": [
    {
     "name": "stderr",
     "output_type": "stream",
     "text": [
      "87it [1:42:15, 70.52s/it]\n"
     ]
    }
   ],
   "source": [
    "pandas_gbq.to_gbq(concentraciones[260702094: 347602792], \n",
    "                      nombre_tabla, \n",
    "                      project_id=pid, \n",
    "                      if_exists='append',\n",
    "                   chunksize = int(1e6))"
   ]
  },
  {
   "cell_type": "code",
   "execution_count": 12,
   "metadata": {},
   "outputs": [
    {
     "name": "stderr",
     "output_type": "stream",
     "text": [
      "87it [1:38:53, 68.21s/it]\n"
     ]
    }
   ],
   "source": [
    "pandas_gbq.to_gbq(concentraciones[347602792 : 434503490], \n",
    "                      nombre_tabla, \n",
    "                      project_id=pid, \n",
    "                      if_exists='append',\n",
    "                   chunksize = int(1e6))"
   ]
  },
  {
   "cell_type": "code",
   "execution_count": 13,
   "metadata": {},
   "outputs": [
    {
     "name": "stderr",
     "output_type": "stream",
     "text": [
      "1it [1:13:25, 4405.08s/it]\n"
     ]
    }
   ],
   "source": [
    "pandas_gbq.to_gbq(concentraciones[434503490 : 521404188], \n",
    "                     nombre_tabla, \n",
    "                      project_id=pid, \n",
    "                      if_exists='append')"
   ]
  },
  {
   "cell_type": "code",
   "execution_count": 14,
   "metadata": {},
   "outputs": [
    {
     "name": "stderr",
     "output_type": "stream",
     "text": [
      "87it [1:49:23, 75.45s/it]\n"
     ]
    }
   ],
   "source": [
    "pandas_gbq.to_gbq(concentraciones[521404188: 608304886], \n",
    "                     nombre_tabla, \n",
    "                      project_id=pid, \n",
    "                      if_exists='append',\n",
    "                       chunksize = int(1e6))"
   ]
  },
  {
   "cell_type": "code",
   "execution_count": 15,
   "metadata": {},
   "outputs": [
    {
     "name": "stderr",
     "output_type": "stream",
     "text": [
      "87it [1:40:49, 69.54s/it]\n"
     ]
    }
   ],
   "source": [
    "pandas_gbq.to_gbq(concentraciones[608304886: 695205584], \n",
    "                      'CR2.concentraciones_PM25', \n",
    "                      project_id=pid, \n",
    "                      if_exists='append',\n",
    "                     chunksize = int(1e6))"
   ]
  },
  {
   "cell_type": "code",
   "execution_count": 17,
   "metadata": {},
   "outputs": [
    {
     "name": "stderr",
     "output_type": "stream",
     "text": [
      "87it [1:37:44, 67.41s/it]\n"
     ]
    }
   ],
   "source": [
    "pandas_gbq.to_gbq(concentraciones[695205584: 782106282], \n",
    "                      'CR2.concentraciones_PM25', \n",
    "                      project_id=pid, \n",
    "                      if_exists='append',\n",
    "                     chunksize = int(1e6))"
   ]
  },
  {
   "cell_type": "code",
   "execution_count": 18,
   "metadata": {},
   "outputs": [
    {
     "name": "stderr",
     "output_type": "stream",
     "text": [
      "95it [1:46:53, 67.51s/it]\n"
     ]
    }
   ],
   "source": [
    "pandas_gbq.to_gbq(concentraciones[782106282: ], \n",
    "                      'CR2.concentraciones_PM25', \n",
    "                      project_id=pid, \n",
    "                      if_exists='append',\n",
    "                      chunksize = int(1e6))"
   ]
  },
  {
   "cell_type": "code",
   "execution_count": null,
   "metadata": {},
   "outputs": [],
   "source": []
  }
 ],
 "metadata": {
  "kernelspec": {
   "display_name": "Python [conda env:spike_basicoV6]",
   "language": "python",
   "name": "conda-env-spike_basicoV6-py"
  },
  "language_info": {
   "codemirror_mode": {
    "name": "ipython",
    "version": 3
   },
   "file_extension": ".py",
   "mimetype": "text/x-python",
   "name": "python",
   "nbconvert_exporter": "python",
   "pygments_lexer": "ipython3",
   "version": "3.6.10"
  }
 },
 "nbformat": 4,
 "nbformat_minor": 4
}
