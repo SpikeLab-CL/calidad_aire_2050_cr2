{
 "cells": [
  {
   "cell_type": "code",
   "execution_count": 1,
   "metadata": {},
   "outputs": [],
   "source": [
    "%matplotlib inline\n",
    "import geopandas as gpd\n",
    "import numpy as np\n",
    "import pandas as pd\n",
    "import pandas_gbq\n",
    "import rioxarray\n",
    "import xarray\n",
    "from scipy.interpolate import interp2d\n",
    "from tqdm import tqdm\n",
    "import matplotlib.pyplot as plt\n",
    "plt.style.use('fivethirtyeight')\n",
    "\n",
    "import os"
   ]
  },
  {
   "cell_type": "code",
   "execution_count": 2,
   "metadata": {},
   "outputs": [],
   "source": [
    "pid = 'spike-sandbox'"
   ]
  },
  {
   "cell_type": "markdown",
   "metadata": {},
   "source": [
    "# Extraemos la base de latitud/longitud"
   ]
  },
  {
   "cell_type": "code",
   "execution_count": 6,
   "metadata": {},
   "outputs": [
    {
     "name": "stderr",
     "output_type": "stream",
     "text": [
      "Downloading: 100%|██████████| 296792/296792 [00:35<00:00, 8298.55rows/s] \n"
     ]
    }
   ],
   "source": [
    "query = '''\n",
    "SELECT *\n",
    "FROM `CR2.emisiones_PM25`\n",
    "WHERE Time=\"2015-05-01\"\n",
    "'''\n",
    "df = pandas_gbq.read_gbq(query, project_id = pid, use_bqstorage_api=True)"
   ]
  },
  {
   "cell_type": "code",
   "execution_count": 18,
   "metadata": {},
   "outputs": [
    {
     "name": "stderr",
     "output_type": "stream",
     "text": [
      "/Users/pipe/anaconda3/envs/spike_basicoV6/lib/python3.6/site-packages/pyproj/crs/crs.py:53: FutureWarning: '+init=<authority>:<code>' syntax is deprecated. '<authority>:<code>' is the preferred initialization method. When making the change, be mindful of axis order changes: https://pyproj4.github.io/pyproj/stable/gotchas.html#axis-order-changes-in-proj-6\n",
      "  return _prepare_from_string(\" \".join(pjargs))\n"
     ]
    }
   ],
   "source": [
    "gdf = gpd.GeoDataFrame(df, geometry = gpd.points_from_xy(df.lon, df.lat))\n",
    "gdf.crs = {'init':'epsg:4326'}"
   ]
  },
  {
   "cell_type": "code",
   "execution_count": 12,
   "metadata": {},
   "outputs": [
    {
     "data": {
      "text/html": [
       "<div>\n",
       "<style scoped>\n",
       "    .dataframe tbody tr th:only-of-type {\n",
       "        vertical-align: middle;\n",
       "    }\n",
       "\n",
       "    .dataframe tbody tr th {\n",
       "        vertical-align: top;\n",
       "    }\n",
       "\n",
       "    .dataframe thead th {\n",
       "        text-align: right;\n",
       "    }\n",
       "</style>\n",
       "<table border=\"1\" class=\"dataframe\">\n",
       "  <thead>\n",
       "    <tr style=\"text-align: right;\">\n",
       "      <th></th>\n",
       "      <th>Time</th>\n",
       "      <th>lat</th>\n",
       "      <th>lon</th>\n",
       "      <th>EMI_PM25</th>\n",
       "      <th>geometry</th>\n",
       "    </tr>\n",
       "  </thead>\n",
       "  <tbody>\n",
       "    <tr>\n",
       "      <th>0</th>\n",
       "      <td>2015-05-01 00:00:00+00:00</td>\n",
       "      <td>-48.40</td>\n",
       "      <td>-72.88</td>\n",
       "      <td>1.886276e-19</td>\n",
       "      <td>POINT (-72.88000 -48.40000)</td>\n",
       "    </tr>\n",
       "    <tr>\n",
       "      <th>1</th>\n",
       "      <td>2015-05-01 00:00:00+00:00</td>\n",
       "      <td>-48.22</td>\n",
       "      <td>-72.64</td>\n",
       "      <td>2.148773e-18</td>\n",
       "      <td>POINT (-72.64000 -48.22000)</td>\n",
       "    </tr>\n",
       "    <tr>\n",
       "      <th>2</th>\n",
       "      <td>2015-05-01 00:00:00+00:00</td>\n",
       "      <td>-48.18</td>\n",
       "      <td>-72.14</td>\n",
       "      <td>3.140934e-19</td>\n",
       "      <td>POINT (-72.14000 -48.18000)</td>\n",
       "    </tr>\n",
       "    <tr>\n",
       "      <th>3</th>\n",
       "      <td>2015-05-01 00:00:00+00:00</td>\n",
       "      <td>-47.88</td>\n",
       "      <td>-73.48</td>\n",
       "      <td>2.076368e-18</td>\n",
       "      <td>POINT (-73.48000 -47.88000)</td>\n",
       "    </tr>\n",
       "    <tr>\n",
       "      <th>4</th>\n",
       "      <td>2015-05-01 00:00:00+00:00</td>\n",
       "      <td>-47.76</td>\n",
       "      <td>-73.60</td>\n",
       "      <td>1.655012e-18</td>\n",
       "      <td>POINT (-73.60000 -47.76000)</td>\n",
       "    </tr>\n",
       "  </tbody>\n",
       "</table>\n",
       "</div>"
      ],
      "text/plain": [
       "                       Time    lat    lon      EMI_PM25  \\\n",
       "0 2015-05-01 00:00:00+00:00 -48.40 -72.88  1.886276e-19   \n",
       "1 2015-05-01 00:00:00+00:00 -48.22 -72.64  2.148773e-18   \n",
       "2 2015-05-01 00:00:00+00:00 -48.18 -72.14  3.140934e-19   \n",
       "3 2015-05-01 00:00:00+00:00 -47.88 -73.48  2.076368e-18   \n",
       "4 2015-05-01 00:00:00+00:00 -47.76 -73.60  1.655012e-18   \n",
       "\n",
       "                      geometry  \n",
       "0  POINT (-72.88000 -48.40000)  \n",
       "1  POINT (-72.64000 -48.22000)  \n",
       "2  POINT (-72.14000 -48.18000)  \n",
       "3  POINT (-73.48000 -47.88000)  \n",
       "4  POINT (-73.60000 -47.76000)  "
      ]
     },
     "execution_count": 12,
     "metadata": {},
     "output_type": "execute_result"
    }
   ],
   "source": [
    "gdf.head()"
   ]
  },
  {
   "cell_type": "code",
   "execution_count": 13,
   "metadata": {},
   "outputs": [
    {
     "name": "stderr",
     "output_type": "stream",
     "text": [
      "/Users/pipe/anaconda3/envs/spike_basicoV6/lib/python3.6/site-packages/pyproj/crs/crs.py:53: FutureWarning: '+init=<authority>:<code>' syntax is deprecated. '<authority>:<code>' is the preferred initialization method. When making the change, be mindful of axis order changes: https://pyproj4.github.io/pyproj/stable/gotchas.html#axis-order-changes-in-proj-6\n",
      "  return _prepare_from_string(\" \".join(pjargs))\n"
     ]
    },
    {
     "data": {
      "text/html": [
       "<div>\n",
       "<style scoped>\n",
       "    .dataframe tbody tr th:only-of-type {\n",
       "        vertical-align: middle;\n",
       "    }\n",
       "\n",
       "    .dataframe tbody tr th {\n",
       "        vertical-align: top;\n",
       "    }\n",
       "\n",
       "    .dataframe thead th {\n",
       "        text-align: right;\n",
       "    }\n",
       "</style>\n",
       "<table border=\"1\" class=\"dataframe\">\n",
       "  <thead>\n",
       "    <tr style=\"text-align: right;\">\n",
       "      <th></th>\n",
       "      <th>objectid</th>\n",
       "      <th>shape_leng</th>\n",
       "      <th>dis_elec</th>\n",
       "      <th>cir_sena</th>\n",
       "      <th>cod_comuna</th>\n",
       "      <th>codregion</th>\n",
       "      <th>st_area_sh</th>\n",
       "      <th>st_length_</th>\n",
       "      <th>region</th>\n",
       "      <th>comuna</th>\n",
       "      <th>provincia</th>\n",
       "      <th>geometry</th>\n",
       "    </tr>\n",
       "  </thead>\n",
       "  <tbody>\n",
       "    <tr>\n",
       "      <th>0</th>\n",
       "      <td>48</td>\n",
       "      <td>170038.624165</td>\n",
       "      <td>16</td>\n",
       "      <td>8</td>\n",
       "      <td>6204</td>\n",
       "      <td>6</td>\n",
       "      <td>9.685774e+08</td>\n",
       "      <td>206184.271675</td>\n",
       "      <td>Región del Libertador Bernardo O'Higgins</td>\n",
       "      <td>Marchigüe</td>\n",
       "      <td>Cardenal Caro</td>\n",
       "      <td>POLYGON ((-71.80071 -34.20728, -71.79992 -34.2...</td>\n",
       "    </tr>\n",
       "    <tr>\n",
       "      <th>1</th>\n",
       "      <td>29</td>\n",
       "      <td>125730.104795</td>\n",
       "      <td>15</td>\n",
       "      <td>8</td>\n",
       "      <td>6102</td>\n",
       "      <td>6</td>\n",
       "      <td>4.157446e+08</td>\n",
       "      <td>151911.576827</td>\n",
       "      <td>Región del Libertador Bernardo O'Higgins</td>\n",
       "      <td>Codegua</td>\n",
       "      <td>Cachapoal</td>\n",
       "      <td>POLYGON ((-70.35293 -33.95263, -70.35243 -33.9...</td>\n",
       "    </tr>\n",
       "  </tbody>\n",
       "</table>\n",
       "</div>"
      ],
      "text/plain": [
       "   objectid     shape_leng  dis_elec  cir_sena  cod_comuna  codregion  \\\n",
       "0        48  170038.624165        16         8        6204          6   \n",
       "1        29  125730.104795        15         8        6102          6   \n",
       "\n",
       "     st_area_sh     st_length_                                    region  \\\n",
       "0  9.685774e+08  206184.271675  Región del Libertador Bernardo O'Higgins   \n",
       "1  4.157446e+08  151911.576827  Región del Libertador Bernardo O'Higgins   \n",
       "\n",
       "      comuna      provincia                                           geometry  \n",
       "0  Marchigüe  Cardenal Caro  POLYGON ((-71.80071 -34.20728, -71.79992 -34.2...  \n",
       "1    Codegua      Cachapoal  POLYGON ((-70.35293 -33.95263, -70.35243 -33.9...  "
      ]
     },
     "execution_count": 13,
     "metadata": {},
     "output_type": "execute_result"
    }
   ],
   "source": [
    "comunas = gpd.read_file(\"/Users/pipe/Documents/Spike/CR2/datos/mapas_censo/Comunas/comunas.shp\")\n",
    "comunas.columns = [m.lower() for m in comunas.columns]\n",
    "comunas = comunas.to_crs({'init': 'epsg:4326'})\n",
    "comunas.head(2)"
   ]
  },
  {
   "cell_type": "markdown",
   "metadata": {},
   "source": [
    "### Cruzamos cada geopandas (para cada tiempo) con las regiones y guardamos los archivos\n"
   ]
  },
  {
   "cell_type": "code",
   "execution_count": 23,
   "metadata": {},
   "outputs": [],
   "source": [
    "gdf = gpd.sjoin(gdf, comunas[['cod_comuna','codregion', 'region', 'comuna', 'provincia', 'geometry']],\n",
    "                how='inner', op='within')"
   ]
  },
  {
   "cell_type": "code",
   "execution_count": 27,
   "metadata": {},
   "outputs": [
    {
     "name": "stderr",
     "output_type": "stream",
     "text": [
      "1it [00:16, 16.26s/it]\n"
     ]
    }
   ],
   "source": [
    "pandas_gbq.to_gbq(gdf[['lat', 'lon', 'cod_comuna', 'codregion', 'region', 'comuna', 'provincia']], \n",
    "                  'CR2.mapeo_latlon_comuna_region', \n",
    "                  project_id=pid, \n",
    "                  if_exists='append',\n",
    "                  chunksize = int(1e6))"
   ]
  }
 ],
 "metadata": {
  "kernelspec": {
   "display_name": "Python [conda env:spike_basicoV6] *",
   "language": "python",
   "name": "conda-env-spike_basicoV6-py"
  },
  "language_info": {
   "codemirror_mode": {
    "name": "ipython",
    "version": 3
   },
   "file_extension": ".py",
   "mimetype": "text/x-python",
   "name": "python",
   "nbconvert_exporter": "python",
   "pygments_lexer": "ipython3",
   "version": "3.6.10"
  }
 },
 "nbformat": 4,
 "nbformat_minor": 4
}
