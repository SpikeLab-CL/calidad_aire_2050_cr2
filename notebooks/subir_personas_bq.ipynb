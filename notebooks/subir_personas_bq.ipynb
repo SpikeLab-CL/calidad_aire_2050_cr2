{
 "cells": [
  {
   "cell_type": "markdown",
   "metadata": {},
   "source": [
    "# CENSO 2017 "
   ]
  },
  {
   "cell_type": "code",
   "execution_count": 10,
   "metadata": {},
   "outputs": [],
   "source": [
    "import pandas as pd\n",
    "import pandas_gbq\n",
    "import geopandas as gpd\n"
   ]
  },
  {
   "cell_type": "code",
   "execution_count": 29,
   "metadata": {},
   "outputs": [
    {
     "name": "stderr",
     "output_type": "stream",
     "text": [
      "1it [00:04,  4.24s/it]\n"
     ]
    }
   ],
   "source": [
    "path_base = '/Users/pipe/Documents/Spike/CR2/calidad_aire_2050_cr2/'\n",
    "df = pd.read_csv(f'{path_base}datos_streamlit/Censo2017_Manzanas.csv', sep=';')\n",
    "\n",
    "\n",
    "df.replace({'*':0}, inplace=True)\n",
    "for col in ['PUEBLO','PERSONAS','INMIGRANTES']:\n",
    "    df[col] = df[col].astype('int')\n",
    "\n",
    "\n",
    "# Comunas\n",
    "comunas = gpd.read_file(f'{path_base}datos_streamlit/Comunas/comunas.shp')\n",
    "comunas.columns = [m.lower() for m in comunas.columns]\n",
    "comunas = comunas.to_crs({'init': 'epsg:4326'})\n",
    "comunas['centroide_comuna_x'] = comunas.centroid.x\n",
    "comunas['centroide_comuna_y'] = comunas.centroid.y\n",
    "\n",
    "socioec = datos_socioec\n",
    "socioec.columns = ['cod_comuna', 'personas','pueblo_indigena', 'inmigrantes']\n",
    "consolidado = socioec.merge(comunas[['cod_comuna','comuna','provincia','region',\n",
    "                                     'centroide_comuna_x','centroide_comuna_y']], on='cod_comuna', how='left')\n",
    "pandas_gbq.to_gbq(consolidado, 'CR2.habitantes_por_comuna', project_id='spike-sandbox', if_exists='replace')"
   ]
  },
  {
   "cell_type": "code",
   "execution_count": null,
   "metadata": {},
   "outputs": [],
   "source": []
  }
 ],
 "metadata": {
  "kernelspec": {
   "display_name": "Python 3",
   "language": "python",
   "name": "python3"
  },
  "language_info": {
   "codemirror_mode": {
    "name": "ipython",
    "version": 3
   },
   "file_extension": ".py",
   "mimetype": "text/x-python",
   "name": "python",
   "nbconvert_exporter": "python",
   "pygments_lexer": "ipython3",
   "version": "3.6.7"
  }
 },
 "nbformat": 4,
 "nbformat_minor": 4
}
